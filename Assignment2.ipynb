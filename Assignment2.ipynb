{
 "cells": [
  {
   "cell_type": "code",
   "execution_count": 4,
   "id": "eda97bf6-574d-41fb-9808-335163521106",
   "metadata": {},
   "outputs": [
    {
     "name": "stdin",
     "output_type": "stream",
     "text": [
      "enter your percentage 80\n"
     ]
    },
    {
     "name": "stdout",
     "output_type": "stream",
     "text": [
      "C\n"
     ]
    }
   ],
   "source": [
    "percent=int(input(\"enter your percentage\"))\n",
    "if percent>90:\n",
    "        print(\"A\")\n",
    "elif percent>80 and percent<=90:\n",
    "        print(\"B\")\n",
    "elif percent>=60 and percent<=80:\n",
    "        print(\"C\")   \n",
    "elif percent<60 and percent>=0:\n",
    "        print(\"D\")\n",
    "else:\n",
    "        print(\"enter valid number\")\n"
   ]
  },
  {
   "cell_type": "code",
   "execution_count": 5,
   "id": "3b6c6d84-c1b1-46cd-968b-af40e58d4a84",
   "metadata": {},
   "outputs": [
    {
     "name": "stdin",
     "output_type": "stream",
     "text": [
      "Enter cost of Bike 75000\n"
     ]
    },
    {
     "name": "stdout",
     "output_type": "stream",
     "text": [
      "7500.0\n"
     ]
    }
   ],
   "source": [
    "cost=float(input(\"Enter cost of Bike\"))\n",
    "if cost>100000:\n",
    "    tax=cost*0.15\n",
    "    print(tax)\n",
    "elif cost>50000 and cost<=100000:\n",
    "    tax=cost*0.10\n",
    "    print(tax)\n",
    "elif cost<=50000 and cost>0:\n",
    "    tax=cost*0.5\n",
    "    print(tax)\n",
    "else:\n",
    "    print(\"enter valid cost\")"
   ]
  },
  {
   "cell_type": "code",
   "execution_count": 6,
   "id": "e848b7b7-40d3-451b-b5a5-8ddffd5e155e",
   "metadata": {},
   "outputs": [
    {
     "name": "stdin",
     "output_type": "stream",
     "text": [
      "Enter valid city Delhi\n"
     ]
    },
    {
     "name": "stdout",
     "output_type": "stream",
     "text": [
      "Red Fort\n"
     ]
    }
   ],
   "source": [
    "city=input(\"Enter valid city\")\n",
    "if city==\"Delhi\":\n",
    "    print(\"Red Fort\")\n",
    "elif city==\"Agra\":\n",
    "    print(\"Taj Mahal\")\n",
    "elif city==\"Jaipur\":\n",
    "    print(\"Jal Mahal\")\n",
    "else:\n",
    "    print(\"please enter correct city\")"
   ]
  },
  {
   "cell_type": "code",
   "execution_count": 10,
   "id": "184b9dae-582a-491a-8507-86852de89fab",
   "metadata": {},
   "outputs": [
    {
     "name": "stdin",
     "output_type": "stream",
     "text": [
      "enter the number 30\n"
     ]
    },
    {
     "name": "stdout",
     "output_type": "stream",
     "text": [
      "2\n"
     ]
    }
   ],
   "source": [
    "num=float(input(\"enter the number\"))\n",
    "count=0\n",
    "while(num>=10):\n",
    "    num=num/3\n",
    "    count=count+1\n",
    "print(count)"
   ]
  },
  {
   "cell_type": "markdown",
   "id": "483d9012-fa5e-4a6e-b1f8-4d8d5ed2822b",
   "metadata": {},
   "source": [
    "We use while loop in python when don't know how many times we need to iterate.The loop continues to run till the while condition is satisfied"
   ]
  },
  {
   "cell_type": "code",
   "execution_count": 11,
   "id": "7fddbe9f-ed9a-4c04-b01d-eda7f0d78b4f",
   "metadata": {},
   "outputs": [
    {
     "name": "stdout",
     "output_type": "stream",
     "text": [
      "10\n",
      "9\n",
      "8\n",
      "7\n",
      "6\n",
      "5\n",
      "4\n",
      "3\n",
      "2\n",
      "1\n"
     ]
    }
   ],
   "source": [
    "num=10\n",
    "while(num>=1):\n",
    "    print(num)\n",
    "    num=num-1"
   ]
  },
  {
   "cell_type": "code",
   "execution_count": 12,
   "id": "aac1ed28-2e18-409a-989b-2290160eaaf1",
   "metadata": {},
   "outputs": [
    {
     "name": "stdout",
     "output_type": "stream",
     "text": [
      "10\n",
      "9\n",
      "8\n",
      "7\n",
      "6\n",
      "5\n",
      "4\n",
      "3\n",
      "2\n",
      "1\n"
     ]
    }
   ],
   "source": [
    "for i in range(10, 0, -1):\n",
    "    print(i)"
   ]
  },
  {
   "cell_type": "code",
   "execution_count": null,
   "id": "8f6deee1-65dd-4a05-8800-dd99f4107295",
   "metadata": {},
   "outputs": [],
   "source": []
  }
 ],
 "metadata": {
  "kernelspec": {
   "display_name": "Python 3 (ipykernel)",
   "language": "python",
   "name": "python3"
  },
  "language_info": {
   "codemirror_mode": {
    "name": "ipython",
    "version": 3
   },
   "file_extension": ".py",
   "mimetype": "text/x-python",
   "name": "python",
   "nbconvert_exporter": "python",
   "pygments_lexer": "ipython3",
   "version": "3.10.8"
  }
 },
 "nbformat": 4,
 "nbformat_minor": 5
}

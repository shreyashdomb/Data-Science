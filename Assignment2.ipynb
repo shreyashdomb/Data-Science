#  question
a=int(input("Enter your Percentage")
      
      

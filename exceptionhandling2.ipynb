{
 "cells": [
  {
   "cell_type": "markdown",
   "id": "32c2e210-480d-467f-8790-4f6fc3b7c968",
   "metadata": {},
   "source": [
    "Q1. Explain why we have to use the Exception class while creating a Custom Exception."
   ]
  },
  {
   "cell_type": "code",
   "execution_count": null,
   "id": "8c724578-acda-437b-aff9-0ddfba0a6eaf",
   "metadata": {},
   "outputs": [],
   "source": [
    "In Python, exceptions are represented by classes. When an error occurs during program execution, Python creates an instance of an exception class and raises it, which can be caught and handled by an appropriate exception handler.\n",
    "\n",
    "When creating a custom exception, it's a good practice to create a new exception class that inherits from the built-in Exception class or one of its subclasses. This is because the Exception class provides a standard interface and behavior for exceptions in Python, such as a message string and a traceback.\n",
    "\n",
    "By creating a custom exception class that inherits from Exception, we can customize the behavior of our exception, such as adding new attributes or methods, while still retaining the standard interface and behavior of exceptions in Python. This makes it easier to handle and debug exceptions in our code.\n",
    "\n",
    "For example, if we want to create a custom exception for an invalid input value, we could define a new exception class InvalidInputError that inherits from Exception:\n",
    "    \n",
    "class InvalidInputError(Exception):\n",
    "    pass\n",
    "Then, when we want to raise an exception for invalid input in our code, we can create an instance of this exception class and raise it:\n",
    "    \n",
    "if input_value < 0:\n",
    "    raise InvalidInputError(\"Invalid input: value cannot be negative\")\n",
    "And when we catch and handle this exception, we can treat it like any other exception in Python:\n",
    "    \n",
    "try:\n",
    "    # some code that may raise InvalidInputError\n",
    "except InvalidInputError as e:\n",
    "    print(\"Error:\", str(e))\n"
   ]
  },
  {
   "cell_type": "raw",
   "id": "87b514a0-8f28-48c4-8fab-0e4ed5d744ae",
   "metadata": {},
   "source": [
    "Q2. Write a python program to print Python Exception Hierarchy."
   ]
  },
  {
   "cell_type": "code",
   "execution_count": null,
   "id": "1f4ba3e1-30a9-48ac-a5ec-a574b5b66b1a",
   "metadata": {},
   "outputs": [],
   "source": [
    "You can print the Python Exception Hierarchy using the built-in help() function in Python. Here's an example:\n",
    "help(Exception)\n",
    "This will print the documentation of the Exception class, which includes the exception hierarchy. You can see the hierarchy in the \"Inheritance diagram\" section of the documentation.\n",
    "\n",
    "Alternatively, you can use the following code to print the hierarchy as a string:\n",
    "import traceback\n",
    "\n",
    "print(traceback.format_exc())\n",
    "This will print the exception hierarchy as a string."
   ]
  },
  {
   "cell_type": "code",
   "execution_count": 1,
   "id": "6d5f5e7e-b53f-410e-8116-bd681a6af826",
   "metadata": {},
   "outputs": [
    {
     "name": "stdout",
     "output_type": "stream",
     "text": [
      "Help on class Exception in module builtins:\n",
      "\n",
      "class Exception(BaseException)\n",
      " |  Common base class for all non-exit exceptions.\n",
      " |  \n",
      " |  Method resolution order:\n",
      " |      Exception\n",
      " |      BaseException\n",
      " |      object\n",
      " |  \n",
      " |  Built-in subclasses:\n",
      " |      ArithmeticError\n",
      " |      AssertionError\n",
      " |      AttributeError\n",
      " |      BufferError\n",
      " |      ... and 15 other subclasses\n",
      " |  \n",
      " |  Methods defined here:\n",
      " |  \n",
      " |  __init__(self, /, *args, **kwargs)\n",
      " |      Initialize self.  See help(type(self)) for accurate signature.\n",
      " |  \n",
      " |  ----------------------------------------------------------------------\n",
      " |  Static methods defined here:\n",
      " |  \n",
      " |  __new__(*args, **kwargs) from builtins.type\n",
      " |      Create and return a new object.  See help(type) for accurate signature.\n",
      " |  \n",
      " |  ----------------------------------------------------------------------\n",
      " |  Methods inherited from BaseException:\n",
      " |  \n",
      " |  __delattr__(self, name, /)\n",
      " |      Implement delattr(self, name).\n",
      " |  \n",
      " |  __getattribute__(self, name, /)\n",
      " |      Return getattr(self, name).\n",
      " |  \n",
      " |  __reduce__(...)\n",
      " |      Helper for pickle.\n",
      " |  \n",
      " |  __repr__(self, /)\n",
      " |      Return repr(self).\n",
      " |  \n",
      " |  __setattr__(self, name, value, /)\n",
      " |      Implement setattr(self, name, value).\n",
      " |  \n",
      " |  __setstate__(...)\n",
      " |  \n",
      " |  __str__(self, /)\n",
      " |      Return str(self).\n",
      " |  \n",
      " |  with_traceback(...)\n",
      " |      Exception.with_traceback(tb) --\n",
      " |      set self.__traceback__ to tb and return self.\n",
      " |  \n",
      " |  ----------------------------------------------------------------------\n",
      " |  Data descriptors inherited from BaseException:\n",
      " |  \n",
      " |  __cause__\n",
      " |      exception cause\n",
      " |  \n",
      " |  __context__\n",
      " |      exception context\n",
      " |  \n",
      " |  __dict__\n",
      " |  \n",
      " |  __suppress_context__\n",
      " |  \n",
      " |  __traceback__\n",
      " |  \n",
      " |  args\n",
      "\n"
     ]
    }
   ],
   "source": [
    "help(Exception)"
   ]
  },
  {
   "cell_type": "markdown",
   "id": "b7bcf24f-4b77-43e7-a4d2-c1605b435858",
   "metadata": {},
   "source": [
    "Q3. What errors are defined in the ArithmeticError class? Explain any two with an example."
   ]
  },
  {
   "cell_type": "code",
   "execution_count": null,
   "id": "ed9a445b-e636-41f4-a20a-fe26bb97dce5",
   "metadata": {},
   "outputs": [],
   "source": [
    "The ArithmeticError class in Python defines errors that occur during arithmetic operations, such as division by zero or overflow. Some of the errors defined in the ArithmeticError class include ZeroDivisionError, OverflowError, and FloatingPointError.\n",
    "\n",
    "Here are two examples of ArithmeticError subclasses:\n",
    "\n",
    "ZeroDivisionError: This error occurs when you try to divide a number by zero.\n",
    "x = 10\n",
    "y = 0\n",
    "\n",
    "try:\n",
    "    result = x / y\n",
    "except ZeroDivisionError:\n",
    "    print(\"Error: division by zero\")\n",
    "\n",
    "In this example, we are trying to divide the number 10 by 0, which will raise a ZeroDivisionError. We catch this error using a try-except block and print a custom error message.\n",
    "\n",
    "OverflowError: This error occurs when a calculation produces a result that is too large to be represented by the system.\n",
    "import sys\n",
    "\n",
    "x = sys.maxsize\n",
    "y = sys.maxsize\n",
    "\n",
    "try:\n",
    "    result = x * y\n",
    "except OverflowError:\n",
    "    print(\"Error: result too large\")\n",
    "In this example, we are trying to multiply two numbers (x and y) that are equal to the maximum integer value that can be represented by the system. This will result in an integer overflow, which raises an OverflowError. We catch this error using a try-except block and print a custom error message."
   ]
  },
  {
   "cell_type": "markdown",
   "id": "d830c089-bf40-4473-84bd-444cca2a4398",
   "metadata": {},
   "source": [
    "Q4. Why LookupError class is used? Explain with an example KeyError and IndexError."
   ]
  },
  {
   "cell_type": "code",
   "execution_count": null,
   "id": "8ee735fe-b866-459a-bc05-3d0bcd84e7b0",
   "metadata": {},
   "outputs": [],
   "source": [
    "The LookupError is a built-in Python class that serves as a base class for all exceptions that occur when a specified key or index cannot be found in a mapping or sequence container.\n",
    "\n",
    "KeyError is a specific exception that occurs when a dictionary key is not found. Here is an example of how it can be used:\n",
    "my_dict = {\"apple\": 1, \"banana\": 2, \"orange\": 3}\n",
    "try:\n",
    "    print(my_dict[\"grape\"])\n",
    "except KeyError:\n",
    "    print(\"The key 'grape' does not exist in the dictionary\")\n",
    "Output:\n",
    "The key 'grape' does not exist in the dictionary\n",
    "\n",
    "IndexError is another specific exception that occurs when an index is out of range in a sequence container like a list. Here is an example:\n",
    "my_list = [1, 2, 3]\n",
    "try:\n",
    "    print(my_list[3])\n",
    "except IndexError:\n",
    "    print(\"Index out of range\")\n",
    "Output:\n",
    "Index out of range\n",
    "In both cases, the LookupError class is used as a base class for the specific exceptions. This allows for more generic exception handling and better code organization."
   ]
  },
  {
   "cell_type": "markdown",
   "id": "cdf753b2-4771-45e9-a993-7c9b29c90176",
   "metadata": {},
   "source": [
    "Q5. Explain ImportError. What is ModuleNotFoundError?"
   ]
  },
  {
   "cell_type": "code",
   "execution_count": null,
   "id": "094a532d-7361-4fde-803f-0287a1550d46",
   "metadata": {},
   "outputs": [],
   "source": [
    "In Python, ImportError is an exception that occurs when a module is not found or cannot be imported. This can occur for several reasons, such as a misspelled module name, an incorrect file path, or a missing dependency.\n",
    "\n",
    "ModuleNotFoundError is a subclass of ImportError that specifically occurs when the requested module is not found in the system. This exception was introduced in Python 3.6 to provide a more specific error message when a module cannot be found.\n",
    "\n",
    "Here is an example of how ImportError and ModuleNotFoundError can occur:\n",
    "# importing a non-existent module\n",
    "try:\n",
    "    import my_module\n",
    "except ImportError as e:\n",
    "    print(\"ImportError:\", e)\n",
    "\n",
    "# importing a module with a misspelled name\n",
    "try:\n",
    "    import matplotlip.pyplot as plt\n",
    "except ModuleNotFoundError as e:\n",
    "    print(\"ModuleNotFoundError:\", e)\n",
    "\n",
    "# importing a module with a missing dependency\n",
    "try:\n",
    "    import pandas\n",
    "except ImportError as e:\n",
    "    print(\"ImportError:\", e)\n",
    "    \n",
    "In the first example, we try to import a module named \"my_module\" that does not exist, so we get an ImportError with the message \"No module named 'my_module'\".\n",
    "\n",
    "In the second example, we try to import the matplotlib.pyplot module, but we misspell it as \"matplotlip\". This raises a ModuleNotFoundError with the message \"No module named 'matplotlip'\".\n",
    "\n",
    "In the third example, we try to import the pandas module, but it has a missing dependency (such as numpy or dateutil). This raises an ImportError with a message indicating which module(s) could not be imported."
   ]
  },
  {
   "cell_type": "markdown",
   "id": "905bc9ff-f06b-4200-985a-bc74f06af799",
   "metadata": {},
   "source": [
    "Q6. List down some best practices for exception handling in python."
   ]
  },
  {
   "cell_type": "raw",
   "id": "226936f7-7074-4c85-8b99-0578737164d7",
   "metadata": {},
   "source": [
    "Here are some best practices for exception handling in Python:\n",
    "\n",
    "Use built-in exceptions whenever possible: Python has many built-in exceptions that you can use to handle errors in your code. Whenever possible, use these exceptions instead of creating custom exceptions.\n",
    "\n",
    "Use try-except blocks to catch exceptions: Use try-except blocks to catch exceptions and handle them appropriately. This will prevent your program from crashing and will allow you to handle errors gracefully.\n",
    "\n",
    "Catch only the exceptions you expect: Catch only the exceptions that you expect to occur in your code. This will prevent unexpected errors from being masked by your exception handling code.\n",
    "\n",
    "Provide informative error messages: When an exception occurs, provide informative error messages that explain the cause of the error and suggest possible solutions.\n",
    "\n",
    "Use finally blocks to release resources: Use finally blocks to release any resources that your code has acquired, such as file handles or network connections.\n",
    "\n",
    "Use context managers: Use context managers, such as the with statement, to ensure that resources are properly acquired and released.\n",
    "\n",
    "Log exceptions: Use a logging library to log exceptions, including the error message and stack trace. This will make it easier to debug your code and identify the root cause of the error.\n",
    "\n",
    "Keep exception handling code separate: Keep your exception handling code separate from your main code to make it easier to read and maintain.\n",
    "\n",
    "Test your exception handling code: Test your exception handling code to ensure that it works as expected and handles all possible error scenarios.\n",
    "\n",
    "\n",
    "\n"
   ]
  }
 ],
 "metadata": {
  "kernelspec": {
   "display_name": "Python 3 (ipykernel)",
   "language": "python",
   "name": "python3"
  },
  "language_info": {
   "codemirror_mode": {
    "name": "ipython",
    "version": 3
   },
   "file_extension": ".py",
   "mimetype": "text/x-python",
   "name": "python",
   "nbconvert_exporter": "python",
   "pygments_lexer": "ipython3",
   "version": "3.10.8"
  }
 },
 "nbformat": 4,
 "nbformat_minor": 5
}

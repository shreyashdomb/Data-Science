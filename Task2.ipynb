{
 "cells": [
  {
   "cell_type": "markdown",
   "id": "5f35828f-a81f-474d-86f3-79138428a44d",
   "metadata": {},
   "source": [
    "You are writing code for a company. The requirement of the company is that you create a python\n",
    "function that will check whether the password entered by the user is correct or not. The function should\n",
    "take the password as input and return the string “Valid Password” if the entered password follows the\n",
    "below-given password guidelines else it should return “Invalid Password”.\n",
    "Note: 1. The Password should contain at least two uppercase letters and at least two lowercase letters.\n",
    "2. The Password should contain at least a number and three special characters.\n",
    "3. The length of the password should be 10 characters long."
   ]
  },
  {
   "cell_type": "code",
   "execution_count": 13,
   "id": "8d190fd0-9e09-41ff-ba3e-4b04b2e6074c",
   "metadata": {},
   "outputs": [],
   "source": [
    "def validate_password(password):\n",
    "    if len(password) != 10:\n",
    "        return \"Invalid Password\"\n",
    "    \n",
    "    lower_count = 0\n",
    "    upper_count = 0\n",
    "    digit_count = 0\n",
    "    special_count = 0\n",
    "    for char in password:\n",
    "        if char.islower():\n",
    "            lower_count += 1\n",
    "        elif char.isupper():\n",
    "            upper_count += 1\n",
    "        elif char.isdigit():\n",
    "            digit_count += 1\n",
    "        elif char in \"!@#$%^&*()_+-=[]{};':\\\"\\\\|,.<>?/\":\n",
    "            special_count += 1\n",
    "    \n",
    "    if lower_count >= 2 and upper_count >= 2 and digit_count >= 1 and special_count >= 3:\n",
    "        return \"Valid Password\"\n",
    "    else:\n",
    "        return \"Invalid Password\"\n"
   ]
  },
  {
   "cell_type": "code",
   "execution_count": 14,
   "id": "ad68725f-b6c3-4609-8465-9c28d9ca9185",
   "metadata": {},
   "outputs": [
    {
     "data": {
      "text/plain": [
       "'Invalid Password'"
      ]
     },
     "execution_count": 14,
     "metadata": {},
     "output_type": "execute_result"
    }
   ],
   "source": [
    "password = \"PAss@-!$123word\"\n",
    "validate_password(password)\n"
   ]
  },
  {
   "cell_type": "markdown",
   "id": "7f510c33-500f-4386-90e5-9204451d3f35",
   "metadata": {},
   "source": [
    "Q2. Solve the below-given questions using at least one of the following:\n",
    "1. Lambda functioJ\n",
    "2. Filter functioJ\n",
    "3. Zap functioJ\n",
    "4. List ComprehensioI\n",
    "B Check if the string starts with a particular letterY\n",
    "B Check if the string is numericY\n",
    "B Sort a list of tuples having fruit names and their quantity. [(\"mango\",99),(\"orange\",80), (\"grapes\", 1000)-\n",
    "B Find the squares of numbers from 1 to 10Y\n",
    "B Find the cube root of numbers from 1 to 10Y\n",
    "B Check if a given number is evenY\n",
    "B Filter odd numbers from the given list.\n",
    "[1,2,3,4,5,6,7,8,9,10-\n",
    "B Sort a list of integers into positive and negative integers lists.\n",
    "[1,2,3,4,5,6,-1,-2,-3,-4,-5,0]"
   ]
  },
  {
   "cell_type": "markdown",
   "id": "c2f26d07-b827-484a-9cb5-04d8812ee132",
   "metadata": {},
   "source": [
    "Q1"
   ]
  },
  {
   "cell_type": "code",
   "execution_count": 18,
   "id": "e958e5c4-9c4e-4607-88e6-ecb37568a372",
   "metadata": {},
   "outputs": [],
   "source": [
    "def starts_with_letter(string, letter):\n",
    "    return string[0].lower() == letter.lower()\n",
    "\n",
    "# Using lambda function\n",
    "starts_with_letter = lambda string, letter: string[0].lower() == letter.lower()\n"
   ]
  },
  {
   "cell_type": "code",
   "execution_count": 19,
   "id": "616e3e06-2f70-4bab-b433-db1386565296",
   "metadata": {},
   "outputs": [
    {
     "data": {
      "text/plain": [
       "True"
      ]
     },
     "execution_count": 19,
     "metadata": {},
     "output_type": "execute_result"
    }
   ],
   "source": [
    "starts_with_letter(\"shreyash\",'s')"
   ]
  },
  {
   "cell_type": "markdown",
   "id": "57588782-4be2-4cf9-852c-999f198b2386",
   "metadata": {},
   "source": [
    "Q2"
   ]
  },
  {
   "cell_type": "code",
   "execution_count": 20,
   "id": "8d3913c3-3e59-4ac5-8cc7-d867a8713933",
   "metadata": {},
   "outputs": [],
   "source": [
    "def is_numeric(string):\n",
    "    return string.isdigit()\n",
    "\n",
    "# Using lambda function\n",
    "is_numeric = lambda string: string.isdigit()\n"
   ]
  },
  {
   "cell_type": "code",
   "execution_count": 22,
   "id": "9505cc04-db6f-4ded-a042-0d4854beb92e",
   "metadata": {},
   "outputs": [
    {
     "data": {
      "text/plain": [
       "True"
      ]
     },
     "execution_count": 22,
     "metadata": {},
     "output_type": "execute_result"
    }
   ],
   "source": [
    "is_numeric(\"12345\")"
   ]
  },
  {
   "cell_type": "markdown",
   "id": "953d2eae-8608-4105-a08f-cd78a767f572",
   "metadata": {},
   "source": [
    "Q3"
   ]
  },
  {
   "cell_type": "code",
   "execution_count": 23,
   "id": "0463bcbe-e595-4099-b419-47d1780a3811",
   "metadata": {},
   "outputs": [],
   "source": [
    "fruits = [(\"mango\", 99), (\"orange\", 80), (\"grapes\", 1000)]\n",
    "\n",
    "# Using lambda function\n",
    "sorted_fruits = sorted(fruits, key=lambda x: x[1])\n",
    "\n",
    "# Using list comprehension\n",
    "sorted_fruits = [(fruit, quantity) for fruit, quantity in sorted(fruits, key=lambda x: x[1])]\n"
   ]
  },
  {
   "cell_type": "code",
   "execution_count": 24,
   "id": "c4808bdc-4d1c-41bd-b84e-82565cb1bbdc",
   "metadata": {},
   "outputs": [
    {
     "data": {
      "text/plain": [
       "[('orange', 80), ('mango', 99), ('grapes', 1000)]"
      ]
     },
     "execution_count": 24,
     "metadata": {},
     "output_type": "execute_result"
    }
   ],
   "source": [
    "sorted_fruits"
   ]
  },
  {
   "cell_type": "markdown",
   "id": "555c7145-1844-40b1-a9cb-d1d0a55b70e8",
   "metadata": {},
   "source": [
    "Q4"
   ]
  },
  {
   "cell_type": "code",
   "execution_count": 25,
   "id": "233e247d-91cd-4539-ba80-d89998126403",
   "metadata": {},
   "outputs": [],
   "source": [
    "# Using lambda function\n",
    "squared_numbers = list(map(lambda x: x**2, range(1, 11)))\n",
    "\n",
    "# Using list comprehension\n",
    "squared_numbers = [x**2 for x in range(1, 11)]\n"
   ]
  },
  {
   "cell_type": "code",
   "execution_count": 26,
   "id": "bd3bd714-711c-4354-b17c-340a55e22336",
   "metadata": {},
   "outputs": [
    {
     "data": {
      "text/plain": [
       "[1, 4, 9, 16, 25, 36, 49, 64, 81, 100]"
      ]
     },
     "execution_count": 26,
     "metadata": {},
     "output_type": "execute_result"
    }
   ],
   "source": [
    "squared_numbers"
   ]
  },
  {
   "cell_type": "markdown",
   "id": "caa190c3-5fc0-4990-bdd1-7b30effa3655",
   "metadata": {},
   "source": [
    "Q5"
   ]
  },
  {
   "cell_type": "code",
   "execution_count": 27,
   "id": "9887c434-f708-4389-9361-c7595d5e36fe",
   "metadata": {},
   "outputs": [],
   "source": [
    "# Using lambda function\n",
    "cubed_roots = list(map(lambda x: x**(1/3), range(1, 11)))\n",
    "\n",
    "# Using list comprehension\n",
    "cubed_roots = [x**(1/3) for x in range(1, 11)]\n"
   ]
  },
  {
   "cell_type": "code",
   "execution_count": 28,
   "id": "17027ef3-9b32-4a33-bb0b-17bb7ad3b256",
   "metadata": {},
   "outputs": [
    {
     "data": {
      "text/plain": [
       "[1.0,\n",
       " 1.2599210498948732,\n",
       " 1.4422495703074083,\n",
       " 1.5874010519681994,\n",
       " 1.7099759466766968,\n",
       " 1.8171205928321397,\n",
       " 1.912931182772389,\n",
       " 2.0,\n",
       " 2.080083823051904,\n",
       " 2.154434690031884]"
      ]
     },
     "execution_count": 28,
     "metadata": {},
     "output_type": "execute_result"
    }
   ],
   "source": [
    "cubed_roots"
   ]
  },
  {
   "cell_type": "markdown",
   "id": "9b7e249e-f3db-4b7e-901e-6b1d38ccd034",
   "metadata": {},
   "source": [
    "Q6"
   ]
  },
  {
   "cell_type": "code",
   "execution_count": 29,
   "id": "3508842f-9d15-4ff3-b7b7-4e40200fc852",
   "metadata": {},
   "outputs": [],
   "source": [
    "def is_even(number):\n",
    "    return number % 2 == 0\n",
    "\n",
    "# Using lambda function\n",
    "is_even = lambda number: number % 2 == 0\n"
   ]
  },
  {
   "cell_type": "code",
   "execution_count": 30,
   "id": "51dcf0a2-ee46-4994-bf45-e466ea11deac",
   "metadata": {},
   "outputs": [
    {
     "data": {
      "text/plain": [
       "True"
      ]
     },
     "execution_count": 30,
     "metadata": {},
     "output_type": "execute_result"
    }
   ],
   "source": [
    "is_even(4)"
   ]
  },
  {
   "cell_type": "markdown",
   "id": "41ff0dee-0dee-4483-aeed-988cc9e15bb6",
   "metadata": {},
   "source": [
    "Q7"
   ]
  },
  {
   "cell_type": "code",
   "execution_count": 31,
   "id": "50692678-3461-4804-be47-c1a102515f70",
   "metadata": {},
   "outputs": [],
   "source": [
    "numbers = [1, 2, 3, 4, 5, 6, 7, 8, 9, 10]\n",
    "\n",
    "# Using filter function\n",
    "odd_numbers = list(filter(lambda x: x % 2 != 0, numbers))\n",
    "\n",
    "# Using list comprehension\n",
    "odd_numbers = [x for x in numbers if x % 2 != 0]\n"
   ]
  },
  {
   "cell_type": "code",
   "execution_count": 32,
   "id": "7739bd60-335d-4c36-989d-3c8e4e759b80",
   "metadata": {},
   "outputs": [
    {
     "data": {
      "text/plain": [
       "[1, 3, 5, 7, 9]"
      ]
     },
     "execution_count": 32,
     "metadata": {},
     "output_type": "execute_result"
    }
   ],
   "source": [
    "odd_numbers"
   ]
  },
  {
   "cell_type": "markdown",
   "id": "bf38e513-ebe2-476c-86d2-e0d36bd20e6e",
   "metadata": {},
   "source": [
    "Q8"
   ]
  },
  {
   "cell_type": "code",
   "execution_count": 33,
   "id": "b5bef808-c18b-45c4-b9aa-9f5c752cb038",
   "metadata": {},
   "outputs": [],
   "source": [
    "numbers = [1, 2, 3, 4, 5, 6, -1, -2, -3, -4, -5, 0]\n",
    "\n",
    "# Using lambda function and filter function\n",
    "positive_numbers = list(filter(lambda x: x > 0, numbers))\n",
    "negative_numbers = list(filter(lambda x: x < 0, numbers))\n",
    "\n",
    "# Using list comprehension\n",
    "positive_numbers = [x for x in numbers if x > 0]\n",
    "negative_numbers = [x for x in numbers if x < 0]\n"
   ]
  },
  {
   "cell_type": "code",
   "execution_count": 34,
   "id": "67a23fe3-e675-45db-8a5c-ee66cc1eb73f",
   "metadata": {},
   "outputs": [
    {
     "data": {
      "text/plain": [
       "[1, 2, 3, 4, 5, 6]"
      ]
     },
     "execution_count": 34,
     "metadata": {},
     "output_type": "execute_result"
    }
   ],
   "source": [
    "positive_numbers"
   ]
  },
  {
   "cell_type": "code",
   "execution_count": 35,
   "id": "b44bac12-2881-4d40-8f13-eede97044cf5",
   "metadata": {},
   "outputs": [
    {
     "data": {
      "text/plain": [
       "[-1, -2, -3, -4, -5]"
      ]
     },
     "execution_count": 35,
     "metadata": {},
     "output_type": "execute_result"
    }
   ],
   "source": [
    "negative_numbers"
   ]
  },
  {
   "cell_type": "code",
   "execution_count": null,
   "id": "ae821ec3-1b3d-44be-b1c7-1ebe67e775e6",
   "metadata": {},
   "outputs": [],
   "source": []
  }
 ],
 "metadata": {
  "kernelspec": {
   "display_name": "Python 3 (ipykernel)",
   "language": "python",
   "name": "python3"
  },
  "language_info": {
   "codemirror_mode": {
    "name": "ipython",
    "version": 3
   },
   "file_extension": ".py",
   "mimetype": "text/x-python",
   "name": "python",
   "nbconvert_exporter": "python",
   "pygments_lexer": "ipython3",
   "version": "3.10.8"
  }
 },
 "nbformat": 4,
 "nbformat_minor": 5
}

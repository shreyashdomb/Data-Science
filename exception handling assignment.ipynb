{
 "cells": [
  {
   "cell_type": "markdown",
   "id": "c34fc9de-b666-44be-9fd7-4a93c34dfd0d",
   "metadata": {},
   "source": [
    "Q1. What is an Exception in pthon? Write the differen,between Exceptions and syntax errors ?\n"
   ]
  },
  {
   "cell_type": "raw",
   "id": "f28b4d90-5b41-467b-b0a1-4ac0158e9878",
   "metadata": {},
   "source": [
    "An exception in Python is an error that occurs during the execution of a program. When an exception occurs, the normal flow of the program is interrupted, and Python tries to find an exception handler that can handle the error.\n",
    "\n",
    "There are many different types of exceptions in Python, such as TypeError, ValueError, NameError, and ZeroDivisionError. These exceptions are raised when an error occurs during the execution of a statement or expression.\n",
    "\n",
    "The main difference between exceptions and syntax errors in Python is that syntax errors occur when the Python interpreter cannot parse or understand the code, while exceptions occur during the execution of the code. Syntax errors are typically caught by the Python interpreter when the code is compiled, while exceptions are caught at runtime.\n",
    "\n",
    "Some other differences between exceptions and syntax errors include:\n",
    "\n",
    "Exceptions are typically caused by unexpected runtime conditions, such as invalid user input or file I/O errors, while syntax errors are caused by incorrect syntax or structure in the code.\n",
    "\n",
    "Exceptions can be caught and handled using try-except blocks, while syntax errors cannot.\n",
    "\n",
    "Exceptions can occur anywhere in the code, while syntax errors typically occur at specific lines or locations in the code.\n",
    "\n",
    "In summary, exceptions are a type of error that occurs during the execution of a Python program, and are typically caused by unexpected runtime conditions. They can be caught and handled using try-except blocks, and are different from syntax errors, which occur when the code cannot be parsed or understood by the Python interpreter."
   ]
  },
  {
   "cell_type": "raw",
   "id": "e6f4614e-c3dd-4092-9036-2b6cc50f609f",
   "metadata": {},
   "source": [
    "An exception in Python is an error that occurs during the execution of a program. When an exception occurs, the normal flow of the program is interrupted, and Python tries to find an exception handler that can handle the error.\n",
    "\n",
    "On the other hand, syntax errors occur when the Python interpreter cannot parse or understand the code due to incorrect syntax or structure. Syntax errors are caught by the Python interpreter when the code is compiled.\n",
    "\n",
    "The main differences between exceptions and syntax errors in Python are:\n",
    "\n",
    "Cause: Exceptions are typically caused by unexpected runtime conditions, such as invalid user input or file I/O errors, while syntax errors are caused by incorrect syntax or structure in the code.\n",
    "\n",
    "Time of Occurrence: Exceptions can occur anywhere in the code, while syntax errors typically occur at specific lines or locations in the code.\n",
    "\n",
    "Handling: Exceptions can be caught and handled using try-except blocks, while syntax errors cannot.\n",
    "\n",
    "Examples: Examples of exceptions include TypeError, ValueError, NameError, and ZeroDivisionError, while syntax errors include SyntaxError, IndentationError, and TabError.\n",
    "\n",
    "In summary, exceptions are errors that occur during the execution of a Python program, while syntax errors occur when the Python interpreter cannot parse or understand the code. Exceptions can be caught and handled using try-except blocks, while syntax errors cannot."
   ]
  },
  {
   "cell_type": "markdown",
   "id": "d941e442-78b6-4eeb-abbd-54cd00606d42",
   "metadata": {},
   "source": [
    "Q2.What happens when an exception is not handled?Explain with example."
   ]
  },
  {
   "cell_type": "code",
   "execution_count": null,
   "id": "297e3c84-dd32-4531-99ae-8447f5d7aa33",
   "metadata": {},
   "outputs": [],
   "source": [
    "When an exception is not handled in Python, the program terminates and the Python interpreter prints a traceback message, which shows the sequence of function calls that led to the exception.\n",
    "\n",
    "For example, consider the following code snippet that tries to open a file that does not exist:\n",
    "try:\n",
    "    f = open(\"nonexistent_file.txt\", \"r\")\n",
    "except:\n",
    "    pass\n",
    "In this code, we are using a try-except block to catch any exception that might occur when we try to open a file that does not exist. However, we are not handling the exception - we are simply using the pass keyword to indicate that we want to do nothing in case an exception occurs.\n",
    "\n",
    "If we run this code, the Python interpreter will print a traceback message indicating that a FileNotFoundError occurred:\n",
    "Traceback (most recent call last):\n",
    "  File \"<stdin>\", line 2, in <module>\n",
    "FileNotFoundError: [Errno 2] No such file or directory: 'nonexistent_file.txt'\n",
    "As we can see from the traceback message, the program terminated because of the unhandled exception.\n",
    "\n",
    "In general, it is good practice to handle exceptions properly in our code, so that we can handle unexpected errors gracefully and avoid program termination. In the above example, we could handle the FileNotFoundError exception by printing an informative error message or creating the file if it does not exist.\n"
   ]
  },
  {
   "cell_type": "markdown",
   "id": "69a674e5-a063-4973-ac8d-da3ad8c841b9",
   "metadata": {},
   "source": [
    "Q3.What python statements are used to catch and handle exceptions?Explain with Example."
   ]
  },
  {
   "cell_type": "code",
   "execution_count": null,
   "id": "4eae3e2c-49d7-451b-a2d3-334c26473128",
   "metadata": {},
   "outputs": [],
   "source": [
    "In Python, try, except, else and finally statements are used to catch and handle exceptions.\n",
    "\n",
    "The basic syntax for using these statements is as follows:\n",
    "try:\n",
    "    # code block that may raise an exception\n",
    "except ExceptionType1:\n",
    "    # code to handle ExceptionType1\n",
    "except ExceptionType2:\n",
    "    # code to handle ExceptionType2\n",
    "else:\n",
    "    # code to be executed if no exception was raised in the try block\n",
    "finally:\n",
    "    # code to be executed regardless of whether an exception was raised or not\n",
    "Here is an example that demonstrates the use of these statements:\n",
    "try:\n",
    "    num1 = int(input(\"Enter a number: \"))\n",
    "    num2 = int(input(\"Enter another number: \"))\n",
    "    result = num1 / num2\n",
    "except ValueError:\n",
    "    print(\"Invalid input: please enter a valid number.\")\n",
    "except ZeroDivisionError:\n",
    "    print(\"Division by zero is not allowed.\")\n",
    "else:\n",
    "    print(\"The result of dividing {0} by {1} is {2}.\".format(num1, num2, result))\n",
    "finally:\n",
    "    print(\"The program has finished.\")\n",
    "In this example, the try block attempts to get input from the user and perform a division operation on the two numbers. If an exception is raised (e.g., ValueError or ZeroDivisionError), the corresponding except block is executed to handle the exception. If no exception is raised, the else block is executed. Finally, the finally block is executed regardless of whether an exception was raised or not."
   ]
  },
  {
   "cell_type": "markdown",
   "id": "16ca55c8-d8d6-40f9-bde7-3eabfff6e602",
   "metadata": {},
   "source": [
    "Q4.Explain with an example :\n",
    "a.try and else\n",
    "b.finally\n",
    "c.raise"
   ]
  },
  {
   "cell_type": "code",
   "execution_count": null,
   "id": "78098f58-3cfc-4e6a-ae07-9dc7ac66386a",
   "metadata": {},
   "outputs": [],
   "source": [
    "here's an explanation of try-except-else, finally, and raise with examples:\n",
    "\n",
    "a. try-except-else: The try-except-else statement is used to handle exceptions in Python. It allows you to try a block of code, catch any exceptions that may occur, and execute a block of code if no exceptions occur.\n",
    "try:\n",
    "    x = int(input(\"Enter a number: \"))\n",
    "    y = int(input(\"Enter another number: \"))\n",
    "    result = x / y\n",
    "except ZeroDivisionError:\n",
    "    print(\"Error: Cannot divide by zero!\")\n",
    "else:\n",
    "    print(f\"{x} divided by {y} is {result}\")\n",
    "In this example, we try to divide two numbers entered by the user using the input function. If a ZeroDivisionError occurs, we catch it and print an error message. Otherwise, we print the result of the division using the else block.\n",
    "\n",
    "b. finally: The finally statement is used to execute a block of code regardless of whether an exception was raised or not. This is useful for cleaning up resources, such as closing files or network connections.\n",
    "try:\n",
    "    f = open(\"file.txt\", \"r\")\n",
    "    # Do some file processing\n",
    "except FileNotFoundError:\n",
    "    print(\"Error: File not found!\")\n",
    "finally:\n",
    "    f.close()\n",
    "In this example, we open a file for reading, do some processing, and then close the file using the finally block. If a FileNotFoundError occurs, we catch it and print an error message before closing the file.\n",
    "\n",
    "c. raise: The raise statement is used to raise an exception manually in Python. This can be useful for handling errors that are not caught by the built-in exception types.\n",
    "x = -1\n",
    "if x < 0:\n",
    "    raise ValueError(\"Error: x must be non-negative!\")\n",
    "In this example, we raise a ValueError exception if x is negative. This will stop the execution of the program and print the error message."
   ]
  },
  {
   "cell_type": "raw",
   "id": "64d004eb-fc1c-411e-9bdb-b36a7ce177a0",
   "metadata": {},
   "source": [
    "Q5.What are custom exceptions in python?Why do we need custom exceptions?Explain with example"
   ]
  },
  {
   "cell_type": "code",
   "execution_count": null,
   "id": "aaad8ac6-595e-4680-b87f-df3e5aca0876",
   "metadata": {},
   "outputs": [],
   "source": [
    "In Python, custom exceptions are user-defined exceptions that can be raised by a program when a specific error condition occurs. Custom exceptions are created by defining a new class that inherits from the built-in Exception class or one of its subclasses.\n",
    "\n",
    "We need custom exceptions in Python to provide more specific and meaningful error messages to the users of our programs. By creating custom exceptions, we can communicate to the users what kind of error has occurred and how they can resolve it.\n",
    "\n",
    "Here is an example that demonstrates how to define and use a custom exception in Python:\n",
    "    \n",
    "class NegativeNumberError(Exception):\n",
    "    def __init__(self, message):\n",
    "        self.message = message\n",
    "\n",
    "def get_square_root(num):\n",
    "    if num < 0:\n",
    "        raise NegativeNumberError(\"Cannot calculate square root of a negative number.\")\n",
    "    else:\n",
    "        return num ** 0.5\n",
    "\n",
    "try:\n",
    "    num = int(input(\"Enter a number: \"))\n",
    "    print(\"The square root of {0} is {1}.\".format(num, get_square_root(num)))\n",
    "except NegativeNumberError as e:\n",
    "    print(e.message)\n",
    "In this example, we define a custom exception called NegativeNumberError that is raised when the user attempts to calculate the square root of a negative number. The get_square_root() function checks whether the input number is negative and raises the NegativeNumberError exception if it is. In the try block, we call the get_square_root() function and handle the NegativeNumberError exception in the except block, where we print a user-friendly error message."
   ]
  },
  {
   "cell_type": "raw",
   "id": "f8386031-4ba9-4a51-8480-a70df96f4255",
   "metadata": {},
   "source": [
    "Q6.Create a custom Exception class .Use This class to handle Exception"
   ]
  },
  {
   "cell_type": "code",
   "execution_count": null,
   "id": "ba2d1bfc-8d8d-44d8-abc6-7dec56a2f533",
   "metadata": {},
   "outputs": [],
   "source": [
    "here's an example of creating a custom exception class and using it to handle an exception:\n",
    "class InvalidAgeError(Exception):\n",
    "    \"\"\"Custom exception class for handling invalid age\"\"\"\n",
    "\n",
    "    def __init__(self, message):\n",
    "        self.message = message\n",
    "\n",
    "\n",
    "class Person:\n",
    "    \"\"\"A class representing a person\"\"\"\n",
    "\n",
    "    def __init__(self, name, age):\n",
    "        self.name = name\n",
    "        if age < 0:\n",
    "            raise InvalidAgeError(\"Invalid age: age cannot be negative\")\n",
    "        self.age = age\n",
    "\n",
    "\n",
    "try:\n",
    "    person1 = Person(\"Alice\", 25)\n",
    "    person2 = Person(\"Bob\", -5)\n",
    "except InvalidAgeError as e:\n",
    "    print(\"Error:\", e.message)\n",
    "else:\n",
    "    print(person1.name, person1.age)\n",
    "    print(person2.name, person2.age)\n",
    "In this example, we define a custom exception class InvalidAgeError that inherits from the Exception class. We use this class to raise an exception if an invalid age value is passed to the Person class constructor.\n",
    "\n",
    "We create two instances of the Person class, one with a valid age value (25) and another with an invalid age value (-5). The latter raises an InvalidAgeError exception, which we catch in the try block and handle in the except block by printing the error message.\n",
    "\n",
    "If no exception is raised, we print the name and age of the two Person instances in the else block."
   ]
  }
 ],
 "metadata": {
  "kernelspec": {
   "display_name": "Python 3 (ipykernel)",
   "language": "python",
   "name": "python3"
  },
  "language_info": {
   "codemirror_mode": {
    "name": "ipython",
    "version": 3
   },
   "file_extension": ".py",
   "mimetype": "text/x-python",
   "name": "python",
   "nbconvert_exporter": "python",
   "pygments_lexer": "ipython3",
   "version": "3.10.8"
  }
 },
 "nbformat": 4,
 "nbformat_minor": 5
}

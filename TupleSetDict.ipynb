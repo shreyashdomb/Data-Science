{
 "cells": [
  {
   "cell_type": "markdown",
   "id": "b53bddf3-35c0-49f9-977a-fc5281e64ca8",
   "metadata": {},
   "source": [
    "1\n",
    "Here are some of the key characteristics of tuples in Python:\n",
    "\n",
    "Immutable: Once a tuple is created, its elements cannot be modified. This makes tuples suitable for representing objects with a fixed number of attributes that shouldn't change.\n",
    "\n",
    "Ordered: The elements of a tuple are ordered, meaning that they retain their position within the tuple.\n",
    "\n",
    "Indexable: Tuples are indexable, meaning that you can access individual elements using square bracket syntax (e.g. tuple[0]).\n",
    "\n",
    "Iterable: Tuples are iterable, meaning that you can loop over the elements of a tuple using a for loop or other iteration construct.\n",
    "\n",
    "Heterogeneous: Tuples can contain elements of different data types, including other tuples.\n",
    "\n",
    "Use parentheses: Tuples are created using parentheses (()), with elements separated by commas.\n",
    "\n",
    "Can be used as keys in dictionaries: Tuples can be used as keys in dictionaries because they are immutable and hashable.\n",
    "\n",
    "Performance: Tuples are more memory efficient than lists because they contain a fixed number of elements. They are also faster than lists when it comes to accessing individual elements or iterating over the elements."
   ]
  },
  {
   "cell_type": "raw",
   "id": "767c0d40-73b0-4bad-8998-033d6329dbbd",
   "metadata": {},
   "source": [
    "2.\n",
    "Tuples in Python have two built-in methods:\n",
    "count(element): This method returns the number of times a specified element appears in a tuple. For example:\n",
    "t = (1, 2, 3, 4, 2)\n",
    "print(t.count(2)) # 2\n",
    "print(t.count(5)) # 0\n",
    "\n",
    "index(element): This method returns the index of the first occurrence of a specified element in a tuple. For example:\n",
    "t = (1, 2, 3, 4, 2)\n",
    "print(t.index(2)) # 1\n",
    "print(t.index(5)) # Raises a ValueError\n"
   ]
  },
  {
   "cell_type": "raw",
   "id": "c28779a9-0373-4afd-b04c-d7717cd0d1e4",
   "metadata": {},
   "source": [
    "3.The collection datatype in Python that does not allow duplicate items is set."
   ]
  },
  {
   "cell_type": "code",
   "execution_count": 13,
   "id": "36e1c501-3a99-46d4-b02c-9c68263bf9a6",
   "metadata": {},
   "outputs": [
    {
     "name": "stdout",
     "output_type": "stream",
     "text": [
      "[1, 2, 3, 4]\n"
     ]
    }
   ],
   "source": [
    "List = [1, 1, 1, 2, 1, 3, 1, 4, 2, 1, 2, 2, 2, 3, 2, 4, 3, 1, 3, 2, 3, 3, 3, 4, 4, 1, 4, 2, 4, 3, 4, 4]\n",
    "unique_list = list(set(List))\n",
    "print(unique_list)\n"
   ]
  },
  {
   "cell_type": "raw",
   "id": "18859ab1-4e9e-45e2-bede-690a577a17fb",
   "metadata": {},
   "source": [
    "4.\n",
    "Difference between union and update methods of a set.In this example, the union method returns a new set that contains all the elements from set1 and set2, while the update method modifies set1 to contain all the elements from both sets. The key difference between these two methods is that union returns a new set, while update modifies the original set."
   ]
  },
  {
   "cell_type": "code",
   "execution_count": 3,
   "id": "cc7fbd66-47d6-404a-9688-39c8797bbfb9",
   "metadata": {},
   "outputs": [],
   "source": [
    "s1={1,2,3,4}"
   ]
  },
  {
   "cell_type": "code",
   "execution_count": 4,
   "id": "edf05f4f-b892-41d5-a96e-b4e56ba72495",
   "metadata": {},
   "outputs": [],
   "source": [
    "s2={5,6,7,8}"
   ]
  },
  {
   "cell_type": "code",
   "execution_count": 5,
   "id": "21bc58f9-14a4-47c3-b11e-87436fecc1c2",
   "metadata": {},
   "outputs": [
    {
     "data": {
      "text/plain": [
       "{1, 2, 3, 4, 5, 6, 7, 8}"
      ]
     },
     "execution_count": 5,
     "metadata": {},
     "output_type": "execute_result"
    }
   ],
   "source": [
    "s1.union(s2)"
   ]
  },
  {
   "cell_type": "code",
   "execution_count": 6,
   "id": "18991345-abdc-42b4-b177-df4928f9713b",
   "metadata": {},
   "outputs": [],
   "source": [
    "s1.update(s2)"
   ]
  },
  {
   "cell_type": "code",
   "execution_count": 7,
   "id": "27b7bd6c-3792-45c3-914f-e0c03bfb3e78",
   "metadata": {},
   "outputs": [
    {
     "data": {
      "text/plain": [
       "{1, 2, 3, 4, 5, 6, 7, 8}"
      ]
     },
     "execution_count": 7,
     "metadata": {},
     "output_type": "execute_result"
    }
   ],
   "source": [
    "s1"
   ]
  },
  {
   "cell_type": "code",
   "execution_count": 8,
   "id": "3d480f62-ca6b-40ef-9e74-75bb87da1a52",
   "metadata": {},
   "outputs": [
    {
     "data": {
      "text/plain": [
       "{5, 6, 7, 8}"
      ]
     },
     "execution_count": 8,
     "metadata": {},
     "output_type": "execute_result"
    }
   ],
   "source": [
    "s2"
   ]
  },
  {
   "cell_type": "code",
   "execution_count": 9,
   "id": "209fe068-f441-4909-a350-0cae5f126f9a",
   "metadata": {},
   "outputs": [],
   "source": [
    "s2.update(s1)"
   ]
  },
  {
   "cell_type": "code",
   "execution_count": 10,
   "id": "e0b4b661-9668-42f3-8699-702460e9a660",
   "metadata": {},
   "outputs": [
    {
     "data": {
      "text/plain": [
       "{1, 2, 3, 4, 5, 6, 7, 8}"
      ]
     },
     "execution_count": 10,
     "metadata": {},
     "output_type": "execute_result"
    }
   ],
   "source": [
    "s2"
   ]
  },
  {
   "cell_type": "raw",
   "id": "31544a04-23a1-44a8-905f-910ea97a27b2",
   "metadata": {},
   "source": [
    "5.\n",
    "A dictionary in Python is a collection of key-value pairs, where each key is associated with a value. Dictionaries are used to store and retrieve values based on keys, making them a powerful and efficient data structure in Python.Dictionaries in Python are unordered, meaning that the order in which the key-value pairs are stored in the dictionary is not guaranteed to be preserved. When you retrieve values from a dictionary, you must provide the corresponding key to access the value."
   ]
  },
  {
   "cell_type": "code",
   "execution_count": 11,
   "id": "9a382566-531f-4170-bd59-d1c5b72bb7d0",
   "metadata": {},
   "outputs": [],
   "source": [
    "person = {\"name\": \"John Doe\", \"age\": 30, \"city\": \"New York\"}\n"
   ]
  },
  {
   "cell_type": "code",
   "execution_count": 12,
   "id": "e41acd21-82aa-4467-98a2-d45039995f1d",
   "metadata": {},
   "outputs": [
    {
     "data": {
      "text/plain": [
       "{'name': 'John Doe', 'age': 30, 'city': 'New York'}"
      ]
     },
     "execution_count": 12,
     "metadata": {},
     "output_type": "execute_result"
    }
   ],
   "source": [
    "person"
   ]
  },
  {
   "cell_type": "raw",
   "id": "85cbaad0-be6b-439c-ba12-b1fa1acb4ac4",
   "metadata": {},
   "source": [
    "6.\n",
    "Yes, you can create a nested dictionary in Python. A nested dictionary is a dictionary that contains another dictionary as its value. Here's an example of how you can create a simple one-level nested dictionary:"
   ]
  },
  {
   "cell_type": "code",
   "execution_count": 14,
   "id": "acb6c720-4745-40cf-8e1f-de3c2e8510e1",
   "metadata": {},
   "outputs": [],
   "source": [
    "person = {\"name\": \"John Doe\", \"details\": {\"age\": 30, \"city\": \"New York\"}}\n"
   ]
  },
  {
   "cell_type": "code",
   "execution_count": 15,
   "id": "ca3cf68b-aae5-48d3-b254-94e05691bb3f",
   "metadata": {},
   "outputs": [
    {
     "name": "stdout",
     "output_type": "stream",
     "text": [
      "30\n",
      "New York\n"
     ]
    }
   ],
   "source": [
    "print(person[\"details\"][\"age\"]) # Output: 30\n",
    "print(person[\"details\"][\"city\"]) # Output: New York\n"
   ]
  },
  {
   "cell_type": "raw",
   "id": "aba16564-6874-4689-9d30-90d0852a2bcb",
   "metadata": {},
   "source": [
    "7."
   ]
  },
  {
   "cell_type": "code",
   "execution_count": 17,
   "id": "905ba1ca-1c15-4a44-be87-94d2da751027",
   "metadata": {},
   "outputs": [
    {
     "name": "stdout",
     "output_type": "stream",
     "text": [
      "{'language': 'Python', 'course': 'Data Science Masters', 'topics': ['Python', 'Machine Learning', 'Deep Learning']}\n"
     ]
    }
   ],
   "source": [
    "dict1 = {'language' : 'Python', 'course': 'Data Science Masters'}\n",
    "dict1.setdefault(\"topics\", ['Python', 'Machine Learning', 'Deep Learning'])\n",
    "print(dict1)\n"
   ]
  },
  {
   "cell_type": "code",
   "execution_count": 18,
   "id": "c46a17e6-da54-46af-8eef-242f584f587d",
   "metadata": {},
   "outputs": [
    {
     "data": {
      "text/plain": [
       "{'language': 'Python',\n",
       " 'course': 'Data Science Masters',\n",
       " 'topics': ['Python', 'Machine Learning', 'Deep Learning']}"
      ]
     },
     "execution_count": 18,
     "metadata": {},
     "output_type": "execute_result"
    }
   ],
   "source": [
    "dict1"
   ]
  },
  {
   "cell_type": "raw",
   "id": "4e610445-ad2e-4c11-b4fb-16168aba4aaa",
   "metadata": {},
   "source": [
    "8\n",
    "In Python, dictionaries have three view objects: keys(), values(), and items()"
   ]
  },
  {
   "cell_type": "code",
   "execution_count": 19,
   "id": "812c22c5-e340-4126-b8c5-27976650d792",
   "metadata": {},
   "outputs": [],
   "source": [
    "dict1 = {'Sport': 'Cricket' , 'Teams': ['India', 'Australia', 'England', 'South Africa', 'Sri Lanka', 'New Zealand']}"
   ]
  },
  {
   "cell_type": "code",
   "execution_count": 20,
   "id": "b20662d9-5786-40d5-b95d-16ca0fcf1b85",
   "metadata": {},
   "outputs": [
    {
     "data": {
      "text/plain": [
       "dict_keys(['Sport', 'Teams'])"
      ]
     },
     "execution_count": 20,
     "metadata": {},
     "output_type": "execute_result"
    }
   ],
   "source": [
    "dict1.keys()"
   ]
  },
  {
   "cell_type": "code",
   "execution_count": 21,
   "id": "aa01ef30-9e62-42be-910d-83edf0b3294a",
   "metadata": {},
   "outputs": [
    {
     "data": {
      "text/plain": [
       "dict_values(['Cricket', ['India', 'Australia', 'England', 'South Africa', 'Sri Lanka', 'New Zealand']])"
      ]
     },
     "execution_count": 21,
     "metadata": {},
     "output_type": "execute_result"
    }
   ],
   "source": [
    "dict1.values()"
   ]
  },
  {
   "cell_type": "code",
   "execution_count": 22,
   "id": "69fc3996-a237-4bd9-8c3e-c41ff621615f",
   "metadata": {},
   "outputs": [
    {
     "data": {
      "text/plain": [
       "dict_items([('Sport', 'Cricket'), ('Teams', ['India', 'Australia', 'England', 'South Africa', 'Sri Lanka', 'New Zealand'])])"
      ]
     },
     "execution_count": 22,
     "metadata": {},
     "output_type": "execute_result"
    }
   ],
   "source": [
    "dict1.items()"
   ]
  },
  {
   "cell_type": "code",
   "execution_count": null,
   "id": "f1ac34ba-14ef-462c-8920-caaf07a9f5ce",
   "metadata": {},
   "outputs": [],
   "source": []
  }
 ],
 "metadata": {
  "kernelspec": {
   "display_name": "Python 3 (ipykernel)",
   "language": "python",
   "name": "python3"
  },
  "language_info": {
   "codemirror_mode": {
    "name": "ipython",
    "version": 3
   },
   "file_extension": ".py",
   "mimetype": "text/x-python",
   "name": "python",
   "nbconvert_exporter": "python",
   "pygments_lexer": "ipython3",
   "version": "3.10.8"
  }
 },
 "nbformat": 4,
 "nbformat_minor": 5
}

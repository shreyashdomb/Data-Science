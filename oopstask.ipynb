{
 "cells": [
  {
   "cell_type": "markdown",
   "id": "8a7269c1-711e-4e6e-b479-3d0c38466c69",
   "metadata": {},
   "source": [
    "Q1"
   ]
  },
  {
   "cell_type": "markdown",
   "id": "fdcfd870-54aa-4026-b66b-9ad7ce5ea1aa",
   "metadata": {},
   "source": [
    "Here is the code for creating a Vehicle class with the given instance variables:"
   ]
  },
  {
   "cell_type": "code",
   "execution_count": 1,
   "id": "e954a745-7c42-49b6-889f-fbce9a215c68",
   "metadata": {},
   "outputs": [],
   "source": [
    "class Vehicle:\n",
    "    def __init__(self, name_of_vehicle, max_speed, average_of_vehicle):\n",
    "        self.name_of_vehicle = name_of_vehicle\n",
    "        self.max_speed = max_speed\n",
    "        self.average_of_vehicle = average_of_vehicle\n"
   ]
  },
  {
   "cell_type": "markdown",
   "id": "47ef80cb-9a23-46e3-abe2-1047cb51144e",
   "metadata": {},
   "source": [
    "This class has an __init__ method that takes three arguments: name_of_vehicle, max_speed, and average_of_vehicle. These arguments are used to initialize the instance variables of the class."
   ]
  },
  {
   "cell_type": "markdown",
   "id": "1d545da5-1e35-458d-a739-970d8078cb7d",
   "metadata": {},
   "source": [
    "Q2"
   ]
  },
  {
   "cell_type": "code",
   "execution_count": 3,
   "id": "524d7518-40f4-4c01-93af-93ad5287fb43",
   "metadata": {},
   "outputs": [],
   "source": [
    "class Car(Vehicle):\n",
    "    def seating_capacity(self, capacity):\n",
    "        return f\"Name of Vehicle: {self.name_of_vehicle}, Seating Capacity: {capacity}\"\n"
   ]
  },
  {
   "cell_type": "markdown",
   "id": "f9b78e5b-062a-4c6d-8097-9e0bf42f0d0d",
   "metadata": {},
   "source": [
    "The Car class inherits from the Vehicle class and has a method seating_capacity that takes a capacity argument and returns a string with the name of the vehicle and its seating capacity. To use the Car class, you first need to create an instance of the Vehicle class and then pass it as the parent class to the Car class."
   ]
  },
  {
   "cell_type": "markdown",
   "id": "0879e9bc-336a-43e7-ac11-151ae232c3be",
   "metadata": {},
   "source": [
    "Q3"
   ]
  },
  {
   "cell_type": "markdown",
   "id": "eb96360c-7c6b-4adb-ae4f-3222cb305de7",
   "metadata": {},
   "source": [
    "Multiple inheritance is a feature in object-oriented programming where a class can inherit properties and attributes from more than one parent class. This allows a class to inherit properties from multiple parent classes and thus reuse their code in a more flexible way.\n",
    "\n",
    "Here is a code example to demonstrate multiple inheritance in Python:"
   ]
  },
  {
   "cell_type": "code",
   "execution_count": 4,
   "id": "cd0bfa51-344f-4343-8c24-b4e4276d4fc7",
   "metadata": {},
   "outputs": [
    {
     "name": "stdout",
     "output_type": "stream",
     "text": [
      "I am from Parent 1\n",
      "I am from Parent 2\n"
     ]
    }
   ],
   "source": [
    "class Parent1:\n",
    "    def __init__(self):\n",
    "        self.var1 = \"I am from Parent 1\"\n",
    "        \n",
    "    def display_var1(self):\n",
    "        print(self.var1)\n",
    "\n",
    "class Parent2:\n",
    "    def __init__(self):\n",
    "        self.var2 = \"I am from Parent 2\"\n",
    "        \n",
    "    def display_var2(self):\n",
    "        print(self.var2)\n",
    "\n",
    "class Child(Parent1, Parent2):\n",
    "    def __init__(self):\n",
    "        Parent1.__init__(self)\n",
    "        Parent2.__init__(self)\n",
    "\n",
    "c = Child()\n",
    "c.display_var1()\n",
    "c.display_var2()\n"
   ]
  },
  {
   "cell_type": "markdown",
   "id": "fb44e8d4-33b6-4d3d-9a5f-e345b48a67a7",
   "metadata": {},
   "source": [
    "Q4"
   ]
  },
  {
   "cell_type": "markdown",
   "id": "625241cb-e720-4540-8377-3462f043c697",
   "metadata": {},
   "source": [
    "Getters and setters are special methods in object-oriented programming that allow you to control the way data is accessed and modified in an object. They provide a way to encapsulate the internal representation of an object and ensure that the object's data remains in a valid state.\n",
    "\n",
    "A getter method is used to retrieve the value of an instance variable, while a setter method is used to set the value of an instance variable.\n",
    "\n",
    "Here is an example of a class with getter and setter methods in Python:"
   ]
  },
  {
   "cell_type": "code",
   "execution_count": 5,
   "id": "da7a345a-b514-46b3-8f32-4845993262d3",
   "metadata": {},
   "outputs": [
    {
     "name": "stdout",
     "output_type": "stream",
     "text": [
      "John Doe\n",
      "50000\n",
      "Jane Doe\n",
      "60000\n"
     ]
    }
   ],
   "source": [
    "class Employee:\n",
    "    def __init__(self, name, salary):\n",
    "        self.__name = name\n",
    "        self.__salary = salary\n",
    "\n",
    "    def get_name(self):\n",
    "        return self.__name\n",
    "\n",
    "    def set_name(self, name):\n",
    "        self.__name = name\n",
    "\n",
    "    def get_salary(self):\n",
    "        return self.__salary\n",
    "\n",
    "    def set_salary(self, salary):\n",
    "        self.__salary = salary\n",
    "\n",
    "employee = Employee(\"John Doe\", 50000)\n",
    "\n",
    "# Accessing the name and salary through the getter methods\n",
    "print(employee.get_name())\n",
    "print(employee.get_salary())\n",
    "\n",
    "# Modifying the name and salary through the setter methods\n",
    "employee.set_name(\"Jane Doe\")\n",
    "employee.set_salary(60000)\n",
    "\n",
    "# Accessing the updated name and salary through the getter methods\n",
    "print(employee.get_name())\n",
    "print(employee.get_salary())\n"
   ]
  },
  {
   "cell_type": "markdown",
   "id": "8723c58d-2f82-45ac-9663-b391299123d6",
   "metadata": {},
   "source": [
    "Q5"
   ]
  },
  {
   "cell_type": "markdown",
   "id": "ae57f25e-fbf5-406c-b52c-d8c0c7cc2920",
   "metadata": {},
   "source": [
    "Method overriding in Python is a feature that allows a subclass to provide a different implementation of a method that is already defined in its superclass. The idea behind method overriding is to allow the subclass to modify or extend the behavior of the parent class in a way that is specific to the needs of that particular subclass.\n",
    "\n",
    "Here's a simple example to demonstrate method overriding in Python:"
   ]
  },
  {
   "cell_type": "code",
   "execution_count": 6,
   "id": "a8dc72e2-faa4-4e95-8065-820617548c26",
   "metadata": {},
   "outputs": [
    {
     "name": "stdout",
     "output_type": "stream",
     "text": [
      "Area of Rectangle: 200\n",
      "Area of Triangle: 100.0\n"
     ]
    }
   ],
   "source": [
    "class Shape:\n",
    "    def area(self):\n",
    "        pass\n",
    "\n",
    "class Rectangle(Shape):\n",
    "    def __init__(self, length, width):\n",
    "        self.length = length\n",
    "        self.width = width\n",
    "        \n",
    "    def area(self):\n",
    "        return self.length * self.width\n",
    "\n",
    "class Triangle(Shape):\n",
    "    def __init__(self, base, height):\n",
    "        self.base = base\n",
    "        self.height = height\n",
    "        \n",
    "    def area(self):\n",
    "        return 0.5 * self.base * self.height\n",
    "\n",
    "rect = Rectangle(10, 20)\n",
    "print(\"Area of Rectangle:\", rect.area())\n",
    "\n",
    "tri = Triangle(10, 20)\n",
    "print(\"Area of Triangle:\", tri.area())\n"
   ]
  },
  {
   "cell_type": "code",
   "execution_count": null,
   "id": "6ac87687-8594-42c0-9df2-d77786455a25",
   "metadata": {},
   "outputs": [],
   "source": []
  }
 ],
 "metadata": {
  "kernelspec": {
   "display_name": "Python 3 (ipykernel)",
   "language": "python",
   "name": "python3"
  },
  "language_info": {
   "codemirror_mode": {
    "name": "ipython",
    "version": 3
   },
   "file_extension": ".py",
   "mimetype": "text/x-python",
   "name": "python",
   "nbconvert_exporter": "python",
   "pygments_lexer": "ipython3",
   "version": "3.10.8"
  }
 },
 "nbformat": 4,
 "nbformat_minor": 5
}

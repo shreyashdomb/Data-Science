{
 "cells": [
  {
   "cell_type": "markdown",
   "id": "d0f713f2-f858-47eb-85b0-b5da4f8bd6fa",
   "metadata": {},
   "source": [
    "Q1. Create a function which will take a list as an argument and return the product of all the numbers\n",
    "after creating a flat list.\n",
    "Use the below-given list as an argument for your function.\n",
    "list1 = [1,2,3,4, [44,55,66, True], False, (34,56,78,89,34), {1,2,3,3,2,1}, {1:34, \"key2\": [55, 67, 78, 89], 4: (45,\n",
    "22, 61, 34)}, [56, 'data science'], 'Machine Learning']\n",
    "Note: you must extract numeric keys and values of the dictionary also."
   ]
  },
  {
   "cell_type": "code",
   "execution_count": 1,
   "id": "b15269b6-ea04-49fe-b7fa-fb5a9d6fe1b2",
   "metadata": {},
   "outputs": [],
   "source": [
    "def product_of_list_elements(input_list):\n",
    "    flat_list = []\n",
    "    for item in input_list:\n",
    "        if type(item) in (int, float):\n",
    "            flat_list.append(item)\n",
    "        elif type(item) == str:\n",
    "            try:\n",
    "                float_value = float(item)\n",
    "                flat_list.append(float_value)\n",
    "            except:\n",
    "                continue\n",
    "        elif type(item) == tuple:\n",
    "            for nested_item in item:\n",
    "                if type(nested_item) in (int, float):\n",
    "                    flat_list.append(nested_item)\n",
    "        elif type(item) == list:\n",
    "            for nested_item in item:\n",
    "                if type(nested_item) in (int, float):\n",
    "                    flat_list.append(nested_item)\n",
    "                elif type(nested_item) == str:\n",
    "                    try:\n",
    "                        float_value = float(nested_item)\n",
    "                        flat_list.append(float_value)\n",
    "                    except:\n",
    "                        continue\n",
    "        elif type(item) == dict:\n",
    "            for key, value in item.items():\n",
    "                if type(key) in (int, float):\n",
    "                    flat_list.append(key)\n",
    "                if type(value) in (int, float):\n",
    "                    flat_list.append(value)\n",
    "                elif type(value) == list:\n",
    "                    for nested_item in value:\n",
    "                        if type(nested_item) in (int, float):\n",
    "                            flat_list.append(nested_item)\n",
    "                elif type(value) == tuple:\n",
    "                    for nested_item in value:\n",
    "                        if type(nested_item) in (int, float):\n",
    "                            flat_list.append(nested_item)\n",
    "    product = 1\n",
    "    for item in flat_list:\n",
    "        product *= item\n",
    "    return product\n"
   ]
  },
  {
   "cell_type": "code",
   "execution_count": 2,
   "id": "1fe22ad0-9e00-4895-84d1-6c74325fa632",
   "metadata": {},
   "outputs": [
    {
     "name": "stdout",
     "output_type": "stream",
     "text": [
      "689118639831180913138973540352000\n"
     ]
    }
   ],
   "source": [
    "list1 = [1,2,3,4, [44,55,66, True], False, (34,56,78,89,34), {1,2,3,3,2,1}, {1:34, \"key2\": [55, 67, 78, 89], 4: (45, 22, 61, 34)}, [56, 'data science'], 'Machine Learning']\n",
    "print(product_of_list_elements(list1))\n"
   ]
  },
  {
   "cell_type": "markdown",
   "id": "49c17938-370f-48e9-bcaf-4a4ff34f87b3",
   "metadata": {},
   "source": [
    "\n",
    "Q2. Write a python program for encrypting a message sent to you by your friend. The logic of encryption\n",
    "should be such that, for a the output should be z. For b, the output should be y. For c, the output should\n",
    "be x respectively. Also, the whitespace should be replaced with a dollar sign. Keep the punctuation\n",
    "marks unchanged.\n",
    "Input Sentence: I want to become a Data Scientist.\n",
    "Encrypt the above input sentence using the program you just created.\n",
    "Note: Convert the given input sentence into lowercase before encrypting. The final output should be\n",
    "lowercase."
   ]
  },
  {
   "cell_type": "code",
   "execution_count": 3,
   "id": "adb12705-5d5c-492e-b6e0-00425468bfca",
   "metadata": {},
   "outputs": [],
   "source": [
    "def encrypt_message(message):\n",
    "    message = message.lower()\n",
    "    encryption_key = {'a': 'z', 'b': 'y', 'c': 'x', 'd': 'w', 'e': 'v', 'f': 'u', 'g': 't', 'h': 's', 'i': 'r', 'j': 'q', 'k': 'p', 'l': 'o', 'm': 'n', 'n': 'm', 'o': 'l', 'p': 'k', 'q': 'j', 'r': 'i', 's': 'h', 't': 'g', 'u': 'f', 'v': 'e', 'w': 'd', 'x': 'c', 'y': 'b', 'z': 'a', ' ': '$'}\n",
    "    encrypted_message = \"\"\n",
    "    for char in message:\n",
    "        if char in encryption_key:\n",
    "            encrypted_message += encryption_key[char]\n",
    "        else:\n",
    "            encrypted_message += char\n",
    "    return encrypted_message\n"
   ]
  },
  {
   "cell_type": "code",
   "execution_count": 4,
   "id": "e8596b1c-0284-40f7-8948-8d8a5dcb5d10",
   "metadata": {},
   "outputs": [
    {
     "name": "stdout",
     "output_type": "stream",
     "text": [
      "r$dzmg$gl$yvxlnv$z$wzgz$hxrvmgrhg.\n"
     ]
    }
   ],
   "source": [
    "message = \"I want to become a Data Scientist.\"\n",
    "print(encrypt_message(message))\n"
   ]
  },
  {
   "cell_type": "code",
   "execution_count": null,
   "id": "9e09e8a4-1f4d-440d-b86a-c427bd702790",
   "metadata": {},
   "outputs": [],
   "source": []
  }
 ],
 "metadata": {
  "kernelspec": {
   "display_name": "Python 3 (ipykernel)",
   "language": "python",
   "name": "python3"
  },
  "language_info": {
   "codemirror_mode": {
    "name": "ipython",
    "version": 3
   },
   "file_extension": ".py",
   "mimetype": "text/x-python",
   "name": "python",
   "nbconvert_exporter": "python",
   "pygments_lexer": "ipython3",
   "version": "3.10.8"
  }
 },
 "nbformat": 4,
 "nbformat_minor": 5
}

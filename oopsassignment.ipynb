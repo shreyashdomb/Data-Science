{
 "cells": [
  {
   "cell_type": "markdown",
   "id": "72d2eb86-290c-4079-bd59-8c5a09810132",
   "metadata": {},
   "source": [
    "Q1"
   ]
  },
  {
   "cell_type": "markdown",
   "id": "fed982d2-4ac8-43c1-a5e1-7333da863c7c",
   "metadata": {},
   "source": [
    "Class and Object are fundamental concepts in Object-Oriented Programming (OOP).\n",
    "\n",
    "A Class is a blueprint for creating objects (instances), providing initial values for state (member variables or attributes), and implementations of behavior (member functions or methods). Classes define a new data type and encapsulate data and behavior in a single unit.\n",
    "\n",
    "An Object is an instance of a Class. It is a real-world entity, and represents a single instance of the Class. An object has state (values assigned to attributes) and behavior (methods that operate on that state).\n",
    "\n",
    "For example, consider the Class Car. A Class Car could have attributes such as make, model, year, and speed. It could also have methods such as accelerate, brake, and get_speed. An object created from the Class Car would represent a single instance of a car, such as a 2019 Honda Civic. The object would have its own values for the attributes, such as make = \"Honda\", model = \"Civic\", year = 2019, and speed = 0.\n",
    "\n",
    "In summary, a Class provides a blueprint for creating objects and defines the attributes and behavior that objects of the Class will have. An Object is a single instance of a Class, representing a real-world entity and having its own attributes and behavior."
   ]
  },
  {
   "cell_type": "markdown",
   "id": "412352a3-f897-4411-a0c7-eaeafd1f4c08",
   "metadata": {},
   "source": [
    "Q2"
   ]
  },
  {
   "cell_type": "markdown",
   "id": "6eb27577-ac46-4f7b-8904-f1ce88b0cd52",
   "metadata": {},
   "source": [
    "The four pillars of Object-Oriented Programming (OOP) are:\n",
    "\n",
    "Encapsulation: Encapsulation is the mechanism of wrapping the data (variables) and the functions operating on the data within a single unit or object. It provides the means of abstraction and is used to hide the implementation details from the outside world.\n",
    "\n",
    "Abstraction: Abstraction is the process of hiding the implementation details and exposing only the essential features of an object to the outside world. It helps to reduce the complexity of the system and make it more manageable.\n",
    "\n",
    "Inheritance: Inheritance is the mechanism of deriving a new class from an existing class. The new class inherits all the attributes and behaviors of the existing class, and can also have its own attributes and behaviors. This allows for a clear relationship between classes and helps to promote code reusability.\n",
    "\n",
    "Polymorphism: Polymorphism is the ability of an object to take on multiple forms. It allows objects of different classes to be treated as objects of a common class, making it possible to write generic and reusable code.\n",
    "\n",
    "These four pillars work together to support the fundamental principles of OOP, including encapsulation, abstraction, inheritance, and polymorphism, and allow developers to design flexible, scalable, and maintainable software systems."
   ]
  },
  {
   "cell_type": "markdown",
   "id": "8da6be2e-829a-4739-90d6-d12e3ad4a9d5",
   "metadata": {},
   "source": [
    "Q3"
   ]
  },
  {
   "cell_type": "markdown",
   "id": "54b6a16d-30af-464e-9a2e-0dcc7b49ccb5",
   "metadata": {},
   "source": [
    "The __init__() function, also known as the constructor, is used to initialize an object's state when it is created. The __init__() function is automatically called when an object is instantiated, and it is used to set the default values for the object's attributes. The syntax for the __init__() function is as follows:"
   ]
  },
  {
   "cell_type": "markdown",
   "id": "8d7438a8-7679-4a9b-9871-a01dd6990b0d",
   "metadata": {},
   "source": [
    "class ClassName:\n",
    "    def __init__(self, arg1, arg2, ...):\n",
    "        self.attribute1 = arg1\n",
    "        self.attribute2 = arg2\n",
    "        ...\n",
    "        "
   ]
  },
  {
   "cell_type": "markdown",
   "id": "edda5099-6edd-4623-a187-1ac7a6bcfb20",
   "metadata": {},
   "source": [
    "Here, arg1, arg2, etc. are the arguments passed to the constructor when the object is instantiated, and self.attribute1, self.attribute2, etc. are the attributes of the object that are being initialized with the values of arg1, arg2, etc.\n",
    "\n",
    "For example, consider the following class definition for a Person:"
   ]
  },
  {
   "cell_type": "code",
   "execution_count": 1,
   "id": "e28569ef-dcb0-4c16-a511-1e273f3b3512",
   "metadata": {},
   "outputs": [],
   "source": [
    "class Person:\n",
    "    def __init__(self, name, age):\n",
    "        self.name = name\n",
    "        self.age = age\n"
   ]
  },
  {
   "cell_type": "markdown",
   "id": "4a3ce2fa-b4bb-4de1-a587-043fa2fd9e8f",
   "metadata": {},
   "source": [
    "In this example, when an object of the Person class is instantiated, the __init__() function is automatically called, and it takes two arguments: name and age. These arguments are used to initialize the name and age attributes of the object, respectively.\n",
    "\n",
    "Here's an example of how the Person class could be used to create an object:"
   ]
  },
  {
   "cell_type": "code",
   "execution_count": 2,
   "id": "e152e5d0-2e30-499d-9e08-e296b8368d04",
   "metadata": {},
   "outputs": [
    {
     "name": "stdout",
     "output_type": "stream",
     "text": [
      "John Doe\n",
      "30\n"
     ]
    }
   ],
   "source": [
    "person = Person(\"John Doe\", 30)\n",
    "print(person.name) # Output: John Doe\n",
    "print(person.age) # Output: 30\n"
   ]
  },
  {
   "cell_type": "markdown",
   "id": "fc6c8d36-3b89-494c-98b6-defc0eec6d08",
   "metadata": {},
   "source": [
    "In this example, the Person class is instantiated with the name argument set to \"John Doe\" and the age argument set to 30. The __init__() function is called automatically, and it initializes the name and age attributes of the person object with the values passed as arguments."
   ]
  },
  {
   "cell_type": "markdown",
   "id": "a841f15d-7fa2-4e1c-8bbf-721f564eff6c",
   "metadata": {},
   "source": [
    "Q4"
   ]
  },
  {
   "cell_type": "markdown",
   "id": "9e6220e0-9146-4ad6-bc10-dfd44ded1864",
   "metadata": {},
   "source": [
    "In object-oriented programming, self is a special keyword that is used to refer to the instance of the object on which a method is being called. The self keyword is used to differentiate between instance variables (i.e., variables that belong to an instance of a class) and local variables (i.e., variables that are defined within a method).\n",
    "\n",
    "For example, consider the following class definition for a Person:"
   ]
  },
  {
   "cell_type": "code",
   "execution_count": 3,
   "id": "cc52cac5-ff8d-4a5c-a9d6-857f7a06751f",
   "metadata": {},
   "outputs": [],
   "source": [
    "class Person:\n",
    "    def __init__(self, name, age):\n",
    "        self.name = name\n",
    "        self.age = age\n"
   ]
  },
  {
   "cell_type": "markdown",
   "id": "78818d56-7ee0-46d9-9185-4fab3280b8e6",
   "metadata": {},
   "source": [
    "In this example, the __init__() method takes two arguments: name and age. The self.name and self.age lines assign the values of name and age to the instance variables self.name and self.age, respectively.\n",
    "\n",
    "Here's an example of how the Person class could be used to create an object:"
   ]
  },
  {
   "cell_type": "code",
   "execution_count": 4,
   "id": "f1364afc-9018-4eac-bc3f-2013efd13ae5",
   "metadata": {},
   "outputs": [
    {
     "name": "stdout",
     "output_type": "stream",
     "text": [
      "John Doe\n",
      "30\n"
     ]
    }
   ],
   "source": [
    "person = Person(\"John Doe\", 30)\n",
    "print(person.name) # Output: John Doe\n",
    "print(person.age) # Output: 30\n"
   ]
  },
  {
   "cell_type": "markdown",
   "id": "98656710-822b-41e4-8c21-fa7ba268efe1",
   "metadata": {},
   "source": [
    "In this example, the Person class is instantiated with the name argument set to \"John Doe\" and the age argument set to 30. The __init__() method is called automatically, and it initializes the name and age instance variables of the person object with the values passed as arguments.\n",
    "\n",
    "Without the self keyword, it would not be possible to distinguish between instance variables and local variables within a method. The use of the self keyword ensures that instance variables are correctly referenced and modified within methods."
   ]
  },
  {
   "cell_type": "markdown",
   "id": "a61e8a16-33e5-4b60-9667-2f1d3803c38e",
   "metadata": {},
   "source": [
    "Q5"
   ]
  },
  {
   "cell_type": "markdown",
   "id": "95e427db-b5c4-42f8-b10f-c16dfc37e071",
   "metadata": {},
   "source": [
    "Inheritance is a mechanism in object-oriented programming that allows one class (the subclass or derived class) to inherit the properties and behavior of another class (the superclass or base class). The subclass can add new properties and behavior, as well as modify or override properties and behavior inherited from the superclass. This allows for code reuse and organization."
   ]
  },
  {
   "cell_type": "markdown",
   "id": "a6feda62-f99c-4aba-9905-462e957ba55e",
   "metadata": {},
   "source": [
    "There are several types of inheritance in object-oriented programming:\n",
    "\n",
    "Single inheritance: This is the simplest form of inheritance, where a subclass inherits from a single superclass. For example:"
   ]
  },
  {
   "cell_type": "code",
   "execution_count": 5,
   "id": "7e2e9d84-0b98-4df9-a6aa-1ba4f0dc8332",
   "metadata": {},
   "outputs": [],
   "source": [
    "class Animal:\n",
    "    def __init__(self, species, legs):\n",
    "        self.species = species\n",
    "        self.legs = legs\n",
    "\n",
    "class Dog(Animal):\n",
    "    def __init__(self, breed):\n",
    "        Animal.__init__(self, \"Dog\", 4)\n",
    "        self.breed = breed\n"
   ]
  },
  {
   "cell_type": "markdown",
   "id": "3c9add57-568b-436f-a133-1df7d30eef71",
   "metadata": {},
   "source": [
    "In this example, the Dog class is a subclass of the Animal class. The Dog class inherits the properties and behavior of the Animal class (i.e., the species and legs attributes). The Dog class adds a new attribute, breed, which is specific to dogs."
   ]
  },
  {
   "cell_type": "markdown",
   "id": "77031add-e38d-4a9c-b2a6-d272074ad2f9",
   "metadata": {},
   "source": [
    "Multiple inheritance: This is a form of inheritance where a subclass inherits from multiple superclasses. For example:"
   ]
  },
  {
   "cell_type": "code",
   "execution_count": 6,
   "id": "fee640d2-ebbb-425b-abea-42541e620dd0",
   "metadata": {},
   "outputs": [],
   "source": [
    "class Mammal:\n",
    "    def __init__(self, species, legs):\n",
    "        self.species = species\n",
    "        self.legs = legs\n",
    "\n",
    "class Carnivore:\n",
    "    def __init__(self):\n",
    "        self.diet = \"Meat\"\n",
    "\n",
    "class Lion(Mammal, Carnivore):\n",
    "    def __init__(self):\n",
    "        Mammal.__init__(self, \"Lion\", 4)\n",
    "        Carnivore.__init__(self)\n"
   ]
  },
  {
   "cell_type": "markdown",
   "id": "c8f814a4-9690-4fad-b935-258b30abc40b",
   "metadata": {},
   "source": [
    "In this example, the Lion class is a subclass of both the Mammal and Carnivore classes. The Lion class inherits properties and behavior from both the Mammal and Carnivore classes."
   ]
  },
  {
   "cell_type": "markdown",
   "id": "a1b4c4dc-6dfd-4119-81ef-120eed1e19b8",
   "metadata": {},
   "source": [
    "Multi-level inheritance: This is a form of inheritance where a subclass inherits from a superclass, which in turn inherits from another superclass. For example:"
   ]
  },
  {
   "cell_type": "code",
   "execution_count": 7,
   "id": "7d7122c6-6e52-43a9-94ad-8fd7b5488b1b",
   "metadata": {},
   "outputs": [],
   "source": [
    "class Animal:\n",
    "    def __init__(self, species, legs):\n",
    "        self.species = species\n",
    "        self.legs = legs\n",
    "\n",
    "class Mammal(Animal):\n",
    "    def __init__(self, species, legs):\n",
    "        Animal.__init__(self, species, legs)\n",
    "\n",
    "class Dog(Mammal):\n",
    "    def __init__(self, breed):\n",
    "        Mammal.__init__(self, \"Dog\", 4)\n",
    "        self.breed = breed\n"
   ]
  },
  {
   "cell_type": "markdown",
   "id": "67d2aff5-47a7-4fc5-83f8-2be0d642cd78",
   "metadata": {},
   "source": [
    "In this example, the Dog class is a subclass of the Mammal class, which is in turn a subclass of the Animal class. The Dog class inherits properties and behavior from both the Mammal and Animal classes."
   ]
  },
  {
   "cell_type": "markdown",
   "id": "3c810c34-17e0-4904-a871-737c9769c994",
   "metadata": {},
   "source": [
    "Hierarchical inheritance: This is a form of inheritance where multiple subclasses inherit from a single superclass. For example"
   ]
  },
  {
   "cell_type": "code",
   "execution_count": null,
   "id": "d718f08f-d1ca-4ee9-9778-991cf0858b14",
   "metadata": {},
   "outputs": [],
   "source": [
    "class Car:\n",
    "    def __init__(self, model, make):\n",
    "        self.model = model\n",
    "        self.make = make\n",
    " \n",
    "    def display(self):\n",
    "        print(f\"Model: {self.model}\\nMake: {self.make}\")\n",
    " \n",
    "class SportsCar(Car):\n",
    "    def __init__(self, model, make, year):\n",
    "        Car.__init__(self, model, make)\n",
    "        self.year = year\n",
    " \n",
    "    def display(self):\n",
    "        Car.display(self)\n",
    "        print(f\"Year: {self.year}\")\n",
    " \n",
    "class LuxuryCar(Car):\n",
    "    def __init__(self, model, make, price):\n",
    "        Car.__init__(self, model, make)\n",
    "        self.price = price\n",
    " \n",
    "    def display(self):\n"
   ]
  },
  {
   "cell_type": "code",
   "execution_count": null,
   "id": "7fde2dde-6e95-4381-96ea-c7008b92ec43",
   "metadata": {},
   "outputs": [],
   "source": []
  }
 ],
 "metadata": {
  "kernelspec": {
   "display_name": "Python 3 (ipykernel)",
   "language": "python",
   "name": "python3"
  },
  "language_info": {
   "codemirror_mode": {
    "name": "ipython",
    "version": 3
   },
   "file_extension": ".py",
   "mimetype": "text/x-python",
   "name": "python",
   "nbconvert_exporter": "python",
   "pygments_lexer": "ipython3",
   "version": "3.10.8"
  }
 },
 "nbformat": 4,
 "nbformat_minor": 5
}

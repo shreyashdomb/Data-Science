{
 "cells": [
  {
   "cell_type": "raw",
   "id": "e8984b1f-98e8-4948-8acb-62a344b4b34d",
   "metadata": {},
   "source": [
    "1\n",
    "Def keyword is used to create function in python"
   ]
  },
  {
   "cell_type": "code",
   "execution_count": 1,
   "id": "d3c3bb34-b740-441c-82a5-1572f60b16bf",
   "metadata": {},
   "outputs": [],
   "source": [
    "def odd():\n",
    "    for i in range(1,26):\n",
    "        if i%2!=0:\n",
    "            print(i)"
   ]
  },
  {
   "cell_type": "code",
   "execution_count": 2,
   "id": "013f278b-be64-4787-8d84-54aafff51810",
   "metadata": {},
   "outputs": [
    {
     "name": "stdout",
     "output_type": "stream",
     "text": [
      "1\n",
      "3\n",
      "5\n",
      "7\n",
      "9\n",
      "11\n",
      "13\n",
      "15\n",
      "17\n",
      "19\n",
      "21\n",
      "23\n",
      "25\n"
     ]
    }
   ],
   "source": [
    "odd()"
   ]
  },
  {
   "cell_type": "raw",
   "id": "60cb7629-b098-4fa9-9105-e8365f78726a",
   "metadata": {},
   "source": [
    "3\n",
    "*args is used to pass a variable number of non-keyword arguments to a function. The arguments passed to the function using *args are packed into a tuple."
   ]
  },
  {
   "cell_type": "code",
   "execution_count": 3,
   "id": "b16c6a7c-27a9-44e7-b1b0-c8c3ee18dba1",
   "metadata": {},
   "outputs": [
    {
     "name": "stdout",
     "output_type": "stream",
     "text": [
      "The arguments passed to the function are:\n",
      "1\n",
      "2\n",
      "3\n"
     ]
    }
   ],
   "source": [
    "def print_args(*args):\n",
    "    print(\"The arguments passed to the function are:\")\n",
    "    for arg in args:\n",
    "        print(arg)\n",
    "\n",
    "print_args(1, 2, 3)\n"
   ]
  },
  {
   "cell_type": "raw",
   "id": "dc26bf5a-6d9b-4b99-a027-09e2e65dd328",
   "metadata": {},
   "source": [
    "**kwargs is used to pass a variable number of keyword arguments to a function. The arguments passed to the function using **kwargs are packed into a dictionary."
   ]
  },
  {
   "cell_type": "code",
   "execution_count": 4,
   "id": "6f22028e-d524-41ec-82c1-601e57d5ea1a",
   "metadata": {},
   "outputs": [
    {
     "name": "stdout",
     "output_type": "stream",
     "text": [
      "The keyword arguments passed to the function are:\n",
      "first: 1\n",
      "second: 2\n",
      "third: 3\n"
     ]
    }
   ],
   "source": [
    "def print_kwargs(**kwargs):\n",
    "    print(\"The keyword arguments passed to the function are:\")\n",
    "    for key, value in kwargs.items():\n",
    "        print(f\"{key}: {value}\")\n",
    "\n",
    "print_kwargs(first=1, second=2, third=3)\n"
   ]
  },
  {
   "cell_type": "raw",
   "id": "70e4f5f4-83ee-483d-84ca-08d6291c00cb",
   "metadata": {},
   "source": [
    "4\n",
    "A generator function is a special type of function in Python that returns an iterable generator object. Instead of using return to return a value, a generator function uses the yield keyword to generate a value"
   ]
  },
  {
   "cell_type": "code",
   "execution_count": 5,
   "id": "ca927c5a-521e-4e70-ae84-c77c2efa37a3",
   "metadata": {},
   "outputs": [
    {
     "name": "stdout",
     "output_type": "stream",
     "text": [
      "0\n",
      "1\n",
      "1\n",
      "2\n",
      "3\n",
      "5\n",
      "8\n",
      "13\n",
      "21\n",
      "34\n"
     ]
    }
   ],
   "source": [
    "def fibonacci_series(n):\n",
    "    a, b = 0, 1\n",
    "    for i in range(n):\n",
    "        yield a\n",
    "        a, b = b, a + b\n",
    "\n",
    "for i in fibonacci_series(10):\n",
    "    print(i)\n"
   ]
  },
  {
   "cell_type": "code",
   "execution_count": 6,
   "id": "fb37f76f-2c65-4f88-bf16-e952117a842e",
   "metadata": {},
   "outputs": [
    {
     "name": "stdout",
     "output_type": "stream",
     "text": [
      "2\n",
      "3\n",
      "5\n",
      "7\n",
      "11\n",
      "13\n",
      "17\n",
      "19\n",
      "23\n",
      "29\n",
      "31\n",
      "37\n",
      "41\n",
      "43\n",
      "47\n",
      "53\n",
      "59\n",
      "61\n",
      "67\n",
      "71\n"
     ]
    }
   ],
   "source": [
    "#5\n",
    "def prime_numbers(limit):\n",
    "    primes = []\n",
    "    for num in range(2, limit):\n",
    "        for prime in primes:\n",
    "            if num % prime == 0:\n",
    "                break\n",
    "        else:\n",
    "            primes.append(num)\n",
    "            yield num\n",
    "\n",
    "prime_gen = prime_numbers(1000)\n",
    "for i in range(20):\n",
    "    print(next(prime_gen))\n"
   ]
  },
  {
   "cell_type": "code",
   "execution_count": null,
   "id": "4e4bdc98-e93d-4ee4-ab66-10576cc89ba0",
   "metadata": {},
   "outputs": [],
   "source": []
  }
 ],
 "metadata": {
  "kernelspec": {
   "display_name": "Python 3 (ipykernel)",
   "language": "python",
   "name": "python3"
  },
  "language_info": {
   "codemirror_mode": {
    "name": "ipython",
    "version": 3
   },
   "file_extension": ".py",
   "mimetype": "text/x-python",
   "name": "python",
   "nbconvert_exporter": "python",
   "pygments_lexer": "ipython3",
   "version": "3.10.8"
  }
 },
 "nbformat": 4,
 "nbformat_minor": 5
}

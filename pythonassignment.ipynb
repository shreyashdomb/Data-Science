{
 "cells": [
  {
   "cell_type": "markdown",
   "id": "faa15c54-42ec-40fc-bf21-2e2235754053",
   "metadata": {},
   "source": [
    "Q1"
   ]
  },
  {
   "cell_type": "code",
   "execution_count": 1,
   "id": "1f606b52-cab8-4969-a639-2c5caaedbe6b",
   "metadata": {},
   "outputs": [
    {
     "name": "stdout",
     "output_type": "stream",
     "text": [
      "[('Virat Kohli', 24936), ('Jack Kallis', 25534), ('Ricky Ponting', 27483), ('Sachin Tendulkar', 34357)]\n"
     ]
    }
   ],
   "source": [
    "# List of tuples\n",
    "lst = [('Sachin Tendulkar', 34357), ('Ricky Ponting', 27483), ('Jack Kallis', 25534), ('Virat Kohli', 24936)]\n",
    "\n",
    "# Sorting the list using the second element of each tuple as the key\n",
    "sorted_lst = sorted(lst, key=lambda x: x[1])\n",
    "\n",
    "# Printing the sorted list\n",
    "print(sorted_lst)\n"
   ]
  },
  {
   "cell_type": "markdown",
   "id": "5af0157c-d6c3-4749-bf3b-a85469e473f9",
   "metadata": {},
   "source": [
    "Q2"
   ]
  },
  {
   "cell_type": "code",
   "execution_count": 3,
   "id": "d70e40cb-a939-4436-b89e-bbcedeb3d8ba",
   "metadata": {},
   "outputs": [
    {
     "name": "stdout",
     "output_type": "stream",
     "text": [
      "[1, 4, 9, 16, 25, 36, 49, 64, 81, 100]\n"
     ]
    }
   ],
   "source": [
    "# List of integers\n",
    "numbers = [1, 2, 3, 4, 5, 6, 7, 8, 9, 10]\n",
    "\n",
    "# Using map and lambda to find the square of each number in the list\n",
    "squared_numbers = list(map(lambda x: x**2, numbers))\n",
    "\n",
    "# Printing the squared numbers\n",
    "print(squared_numbers)\n"
   ]
  },
  {
   "cell_type": "markdown",
   "id": "65d4b501-9db5-47f4-8ab4-35f23e81b930",
   "metadata": {},
   "source": [
    "Q3"
   ]
  },
  {
   "cell_type": "code",
   "execution_count": 4,
   "id": "c2b38348-2538-47cb-bbba-c588a5b848ac",
   "metadata": {},
   "outputs": [
    {
     "name": "stdout",
     "output_type": "stream",
     "text": [
      "('1', '2', '3', '4', '5', '6', '7', '8', '9', '10')\n"
     ]
    }
   ],
   "source": [
    "# List of integers\n",
    "numbers = [1, 2, 3, 4, 5, 6, 7, 8, 9, 10]\n",
    "\n",
    "# Using map and lambda to convert the integers to strings\n",
    "strings = tuple(map(lambda x: str(x), numbers))\n",
    "\n",
    "# Printing the tuple of strings\n",
    "print(strings)\n"
   ]
  },
  {
   "cell_type": "markdown",
   "id": "308108f2-0b4a-4242-aba7-0fbfa1fc3ba8",
   "metadata": {},
   "source": [
    "Q4"
   ]
  },
  {
   "cell_type": "code",
   "execution_count": 8,
   "id": "e0c495ba-135f-4232-8e52-d7470fb333f9",
   "metadata": {},
   "outputs": [
    {
     "name": "stdout",
     "output_type": "stream",
     "text": [
      "15511210043330985984000000\n"
     ]
    }
   ],
   "source": [
    "from functools import reduce\n",
    "\n",
    "# List of numbers from 1 to 25\n",
    "numbers = range(1, 26)\n",
    "\n",
    "# Using reduce to compute the product of all numbers in the list\n",
    "product = reduce(lambda x, y: x*y, numbers)\n",
    "\n",
    "# Printing the product\n",
    "print(product)\n"
   ]
  },
  {
   "cell_type": "markdown",
   "id": "59d68f1c-949d-455e-b4d8-883df4afeed9",
   "metadata": {},
   "source": [
    "Q5"
   ]
  },
  {
   "cell_type": "code",
   "execution_count": 9,
   "id": "34291a71-2f9d-41d5-a125-897c1bd3e6c5",
   "metadata": {},
   "outputs": [
    {
     "name": "stdout",
     "output_type": "stream",
     "text": [
      "Numbers divisible by 2 and 3:  [6, 60, 90, 120]\n"
     ]
    }
   ],
   "source": [
    "# List of numbers\n",
    "numbers = [2, 3, 6, 9, 27, 60, 90, 120, 55, 46]\n",
    "\n",
    "# Using filter to get the numbers divisible by 2 and 3\n",
    "result = list(filter(lambda x: x % 2 == 0 and x % 3 == 0, numbers))\n",
    "\n",
    "# Printing the filtered numbers\n",
    "print(\"Numbers divisible by 2 and 3: \", result)\n"
   ]
  },
  {
   "cell_type": "markdown",
   "id": "ea73efc4-d71e-4695-8c2f-72c537ce59f0",
   "metadata": {},
   "source": [
    "Q6"
   ]
  },
  {
   "cell_type": "code",
   "execution_count": 10,
   "id": "425b75a7-8c79-4456-a98b-b623be2a75e9",
   "metadata": {},
   "outputs": [
    {
     "name": "stdout",
     "output_type": "stream",
     "text": [
      "Palindromes:  ['level', 'deified', 'civic', 'rotor', 'madam', 'refer']\n"
     ]
    }
   ],
   "source": [
    "# List of strings\n",
    "strings = [\"level\", \"deified\", \"civic\", \"rotor\", \"madam\", \"refer\", \"hello\", \"world\"]\n",
    "\n",
    "# Using filter and lambda to find the palindromes in the list\n",
    "result = list(filter(lambda x: x == x[::-1], strings))\n",
    "\n",
    "# Printing the palindromes\n",
    "print(\"Palindromes: \", result)\n"
   ]
  },
  {
   "cell_type": "code",
   "execution_count": null,
   "id": "651a9223-dd3c-494d-a0ea-64de3cdfa2b2",
   "metadata": {},
   "outputs": [],
   "source": []
  }
 ],
 "metadata": {
  "kernelspec": {
   "display_name": "Python 3 (ipykernel)",
   "language": "python",
   "name": "python3"
  },
  "language_info": {
   "codemirror_mode": {
    "name": "ipython",
    "version": 3
   },
   "file_extension": ".py",
   "mimetype": "text/x-python",
   "name": "python",
   "nbconvert_exporter": "python",
   "pygments_lexer": "ipython3",
   "version": "3.10.8"
  }
 },
 "nbformat": 4,
 "nbformat_minor": 5
}

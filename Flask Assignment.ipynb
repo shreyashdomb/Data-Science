{
 "cells": [
  {
   "cell_type": "markdown",
   "id": "224f00b4-b37c-4db9-872f-a6585a750886",
   "metadata": {},
   "source": [
    "Q1. What is Flask Framework? What are the advantages of Flask Framework?"
   ]
  },
  {
   "cell_type": "code",
   "execution_count": null,
   "id": "ee1b9c19-acb1-4786-82d5-b1f93ae763b6",
   "metadata": {},
   "outputs": [],
   "source": [
    "Flask is a popular Python web framework used for building web applications. It is a micro-framework, which means it provides only the essential features needed for web development and allows developers to add more functionality as needed.\n",
    "\n",
    "Some of the advantages of Flask framework are:\n",
    "\n",
    "Lightweight: Flask is a lightweight framework and does not have any dependencies on external libraries or tools.\n",
    "\n",
    "Easy to Use: Flask is easy to learn and use, making it a popular choice for beginners in web development.\n",
    "\n",
    "Flexibility: Flask is highly flexible and can be customized to fit specific project requirements.\n",
    "\n",
    "Extensible: Flask provides a wide range of extensions that can be easily integrated into the framework, allowing developers to add more functionality to their applications.\n",
    "\n",
    "Scalability: Flask is highly scalable and can be used to build small as well as large-scale applications.\n",
    "\n",
    "Testing: Flask comes with built-in testing support, allowing developers to write and run tests for their applications.\n",
    "\n",
    "Documentation: Flask has comprehensive documentation and a large community of developers who actively contribute to the framework.\n",
    "\n",
    "Overall, Flask is a great choice for building web applications due to its simplicity, flexibility, and scalability.\n",
    "\n",
    "\n",
    "\n"
   ]
  },
  {
   "cell_type": "markdown",
   "id": "17c912ee-3fe3-463e-afc9-0e82b4f6a5ee",
   "metadata": {},
   "source": [
    "Q2. Create a simple Flask application to display ‘Hello World!!’. Attach the screenshot of the output in\n",
    "Jupyter Notebook."
   ]
  },
  {
   "cell_type": "code",
   "execution_count": null,
   "id": "94c2565a-bd23-4f1b-8a20-e2c9de7c06d9",
   "metadata": {},
   "outputs": [],
   "source": [
    "code to create a simple Flask application that displays \"Hello World!\" on the webpage:\n",
    "from flask import Flask\n",
    "\n",
    "app = Flask(__name__)\n",
    "\n",
    "@app.route('/')\n",
    "def hello_world():\n",
    "    return 'Hello World!'\n",
    "\n",
    "if __name__ == '__main__':\n",
    "    app.run()\n",
    "When you run this code, you should see a message similar to this:\n",
    "* Running on http://127.0.0.1:5000/ (Press CTRL+C to quit)\n",
    "This means that your Flask application is running and can be accessed by visiting http://127.0.0.1:5000/ in your web browser. When you visit this URL, you should see the message \"Hello World!\" displayed on the page"
   ]
  },
  {
   "cell_type": "markdown",
   "id": "3725846b-341b-484b-bb20-840582818121",
   "metadata": {},
   "source": [
    "Q3. What is App routing in Flask? Why do we use app routes?"
   ]
  },
  {
   "cell_type": "raw",
   "id": "8b6a55f9-195a-4d72-9b68-0a6d39c61b49",
   "metadata": {},
   "source": [
    "In Flask, routing refers to mapping URL endpoints to the view functions that handle those endpoints. App routing is the process of defining these URL endpoints and their associated view functions in a Flask application.\n",
    "\n",
    "We use app routes in Flask to define how a user can access different parts of our web application. For example, we can use app routes to define the URL for the homepage, login page, user profile page, etc. By defining these routes, we can ensure that our users can access the correct pages and functionalities of our web application.\n",
    "\n",
    "App routes are also used to handle HTTP requests made by the user's browser. When a user clicks on a link or submits a form on our web application, the browser sends an HTTP request to the server. The app routes in Flask are responsible for receiving these requests and sending the appropriate response back to the user's browser.\n",
    "\n",
    "Overall, app routing is a critical component of Flask web development, as it allows us to define the structure and functionality of our web application in a clear and organized manner."
   ]
  },
  {
   "cell_type": "markdown",
   "id": "c2e6a45f-6346-4a7c-804a-88c81d54e245",
   "metadata": {},
   "source": [
    "Q4. Create a “/welcome” route to display the welcome message “Welcome to ABC Corporation” and a “/”\n",
    "route to show the following details:\n",
    "Company Name: ABC Corporation\n",
    "Location: India\n",
    "Contact Detail: 999-999-9999"
   ]
  },
  {
   "cell_type": "code",
   "execution_count": null,
   "id": "5ce68800-6e31-490a-a838-fe6eaac1e0d1",
   "metadata": {},
   "outputs": [],
   "source": [
    "Here is the code to create the /welcome route and / route in Flask to display the welcome message and company details respectively:\n",
    "from flask import Flask\n",
    "\n",
    "app = Flask(__name__)\n",
    "\n",
    "@app.route('/welcome')\n",
    "def welcome():\n",
    "    return 'Welcome to ABC Corporation'\n",
    "\n",
    "@app.route('/')\n",
    "def company_details():\n",
    "    return 'Company Name: ABC Corporation<br>Location: India<br>Contact Detail: 999-999-9999'\n",
    "\n",
    "if __name__ == '__main__':\n",
    "    app.run()\n",
    "When you run this code and visit http://127.0.0.1:5000/welcome, you should see the message \"Welcome to ABC Corporation\" displayed on the page. When you visit http://127.0.0.1:5000/, you should see the company details displayed in a list format."
   ]
  },
  {
   "cell_type": "markdown",
   "id": "117c71a6-547c-4057-87a1-1077bd57562f",
   "metadata": {},
   "source": [
    "Q5. What function is used in Flask for URL Building? Write a Python code to demonstrate the working of the\n",
    "url_for() function."
   ]
  },
  {
   "cell_type": "code",
   "execution_count": null,
   "id": "b0a6ec24-c127-4fd2-8f11-28da75f4466d",
   "metadata": {},
   "outputs": [],
   "source": [
    "In Flask, the url_for() function is used for URL building. It generates a URL to the specified endpoint, which is a Python function that is decorated with the @app.route() decorator.\n",
    "\n",
    "Here is an example Python code to demonstrate the working of the url_for() function:\n",
    "from flask import Flask, url_for\n",
    "\n",
    "app = Flask(__name__)\n",
    "\n",
    "@app.route('/')\n",
    "def index():\n",
    "    return 'This is the index page'\n",
    "\n",
    "@app.route('/user/<username>')\n",
    "def show_user_profile(username):\n",
    "    return f'This is the profile page for {username}'\n",
    "\n",
    "@app.route('/post/<int:post_id>')\n",
    "def show_post(post_id):\n",
    "    return f'This is the post page for post {post_id}'\n",
    "\n",
    "with app.test_request_context():\n",
    "    print(url_for('index'))\n",
    "    print(url_for('show_user_profile', username='John'))\n",
    "    print(url_for('show_post', post_id=2))\n",
    "In this example, we define three different endpoints: /, /user/<username>, and /post/<int:post_id>. Each of these endpoints is associated with a view function that will generate a response when the endpoint is requested.\n",
    "\n",
    "In the with app.test_request_context(): block, we use the url_for() function to generate URLs for each of these endpoints. The first argument to url_for() is the name of the endpoint (i.e., the name of the view function), and any additional arguments are used to specify the dynamic parameters of the endpoint (e.g., username or post_id).\n",
    "\n",
    "When we run this code, the url_for() function will generate URLs for each of the endpoints, and print them to the console. For example, the output might look like:    "
   ]
  }
 ],
 "metadata": {
  "kernelspec": {
   "display_name": "Python 3 (ipykernel)",
   "language": "python",
   "name": "python3"
  },
  "language_info": {
   "codemirror_mode": {
    "name": "ipython",
    "version": 3
   },
   "file_extension": ".py",
   "mimetype": "text/x-python",
   "name": "python",
   "nbconvert_exporter": "python",
   "pygments_lexer": "ipython3",
   "version": "3.10.8"
  }
 },
 "nbformat": 4,
 "nbformat_minor": 5
}

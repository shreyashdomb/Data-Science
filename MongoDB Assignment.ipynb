{
 "cells": [
  {
   "cell_type": "markdown",
   "id": "7f5f1e9c-4042-4936-b26f-447caaf6c5eb",
   "metadata": {},
   "source": [
    "Q1. What is MongoDB? Explain non-relational databases in short. In which scenarios it is preferred to use\n",
    "MongoDB over SQL databases?"
   ]
  },
  {
   "cell_type": "raw",
   "id": "b7c1136c-2fd5-4de5-99bd-1cd5ef76e577",
   "metadata": {},
   "source": [
    " MongoDB is a document-oriented NoSQL database that stores data in flexible, JSON-like documents. It is designed to be highly scalable, flexible, and performant, making it a popular choice for applications that require the storage and retrieval of large amounts of unstructured or semi-structured data.\n",
    "\n",
    "Non-relational databases, also known as NoSQL databases, are databases that do not use the traditional tabular schema of rows and columns that is used in relational databases like SQL. Instead, non-relational databases store data in a more flexible and dynamic format that can include a variety of data types, including documents, key-value pairs, and graphs. Non-relational databases are often used in applications that require a more flexible and scalable approach to data storage and retrieval.\n",
    "\n",
    "There are several scenarios where it is preferred to use MongoDB over SQL databases:\n",
    "\n",
    "When dealing with unstructured or semi-structured data: MongoDB is designed to handle unstructured and semi-structured data, which makes it a good choice for applications that deal with large amounts of diverse data.\n",
    "\n",
    "When scalability is important: MongoDB is designed to be highly scalable, making it a good choice for applications that need to store and retrieve large amounts of data.\n",
    "\n",
    "When real-time analytics is required: MongoDB supports real-time analytics and reporting, which makes it a good choice for applications that require up-to-the-minute insights into their data.\n",
    "\n",
    "When there are frequent schema changes: MongoDB's flexible document model allows for easy schema changes, which makes it a good choice for applications that require frequent schema changes or that have rapidly evolving data requirements.\n",
    "\n",
    "In summary, MongoDB is a popular NoSQL database that is designed to be highly scalable, flexible, and performant. It is a good choice for applications that deal with unstructured or semi-structured data, require high scalability, support real-time analytics, and have rapidly evolving data requirements.\n",
    "\n",
    "\n",
    "\n"
   ]
  },
  {
   "cell_type": "markdown",
   "id": "a78409d9-8c7f-49fe-95ef-3a8d5b8d2f5f",
   "metadata": {},
   "source": [
    "Q2. State and Explain the features of MongoDB."
   ]
  },
  {
   "cell_type": "raw",
   "id": "7e693b14-1462-430c-9f5b-4aa53715c8dd",
   "metadata": {},
   "source": [
    "MongoDB is a document-oriented NoSQL database that is designed to be highly scalable, flexible, and performant. Some of the key features of MongoDB include:\n",
    "\n",
    "Flexible data model: MongoDB's flexible document model allows for the storage of diverse and unstructured data. This means that the data can be stored in a variety of formats, including JSON, BSON, and XML.\n",
    "\n",
    "High scalability: MongoDB is designed to be highly scalable, making it suitable for large-scale applications. It supports horizontal scaling through sharding, which allows for the distribution of data across multiple servers.\n",
    "\n",
    "High availability: MongoDB provides automatic failover and replication, ensuring that the data is always available even in the event of a server failure.\n",
    "\n",
    "Performance: MongoDB is designed for high performance and can handle large volumes of data at high speeds. It supports advanced indexing and aggregation features, which can improve query performance.\n",
    "\n",
    "Rich query language: MongoDB supports a rich query language that includes support for complex queries, aggregation pipelines, and geospatial queries.\n",
    "\n",
    "Support for ACID transactions: MongoDB supports ACID transactions for single document operations, which provides consistency and reliability for mission-critical applications.\n",
    "\n",
    "Easy integration with other technologies: MongoDB can be easily integrated with other technologies, including popular programming languages like Python, Java, and Node.js, as well as with popular data visualization tools like Tableau and Power BI.\n",
    "\n",
    "In summary, MongoDB provides a flexible data model, high scalability, high availability, high performance, rich query language, support for ACID transactions, and easy integration with other technologies. These features make it a popular choice for applications that require the storage and retrieval of large amounts of unstructured or semi-structured data.\n",
    "\n",
    "\n",
    "\n"
   ]
  },
  {
   "cell_type": "markdown",
   "id": "169313d3-65ae-40c4-893c-b36563f30572",
   "metadata": {},
   "source": [
    "Q3. Write a code to connect MongoDB to Python. Also, create a database and a collection in MongoDB."
   ]
  },
  {
   "cell_type": "code",
   "execution_count": null,
   "id": "5ff08baf-836b-45fd-af64-9728e8286515",
   "metadata": {},
   "outputs": [],
   "source": [
    "here's an example code that connects to a MongoDB database using Python's pymongo package, and creates a database and collection:\n",
    "import pymongo\n",
    "\n",
    "# establish a connection to MongoDB\n",
    "client = pymongo.MongoClient(\"mongodb://localhost:27017/\")\n",
    "\n",
    "# create a new database\n",
    "db = client[\"mydatabase\"]\n",
    "\n",
    "# create a new collection in the database\n",
    "col = db[\"customers\"]\n",
    "In this code, we first import the pymongo package and then establish a connection to the local MongoDB instance running on the default port 27017. We then create a new database named mydatabase using the client object, and create a new collection named customers within that database using the db object.\n",
    "\n",
    "Note that this code assumes that you have MongoDB installed and running locally on your machine. If you are connecting to a remote MongoDB instance, you would need to modify the connection string to include the appropriate host and port information. Also, keep in mind that you will need to have the pymongo package installed in order to run this code."
   ]
  },
  {
   "cell_type": "markdown",
   "id": "783c0279-ef59-44dc-a058-10c6a1bc9c9b",
   "metadata": {},
   "source": [
    "Q4. Using the database and the collection created in question number 3, write a code to insert one record,\n",
    "and insert many records. Use the find() and find_one() methods to print the inserted record."
   ]
  },
  {
   "cell_type": "code",
   "execution_count": null,
   "id": "ce6d0d7f-20d0-4895-bcc4-cea6df07bcd3",
   "metadata": {},
   "outputs": [],
   "source": [
    "here's an example code that inserts one record and multiple records into the customers collection created in question 3, and then uses the find() and find_one() methods to print the inserted records:\n",
    "import pymongo\n",
    "\n",
    "# establish a connection to MongoDB\n",
    "client = pymongo.MongoClient(\"mongodb://localhost:27017/\")\n",
    "\n",
    "# create a new database\n",
    "db = client[\"mydatabase\"]\n",
    "\n",
    "# create a new collection in the database\n",
    "col = db[\"customers\"]\n",
    "\n",
    "# insert one record\n",
    "customer = {\"name\": \"John Doe\", \"email\": \"johndoe@example.com\"}\n",
    "col.insert_one(customer)\n",
    "\n",
    "# insert multiple records\n",
    "customers = [\n",
    "  {\"name\": \"Jane Doe\", \"email\": \"janedoe@example.com\"},\n",
    "  {\"name\": \"Bob Smith\", \"email\": \"bobsmith@example.com\"},\n",
    "  {\"name\": \"Alice Johnson\", \"email\": \"alicejohnson@example.com\"}\n",
    "]\n",
    "col.insert_many(customers)\n",
    "\n",
    "# print the inserted records using find()\n",
    "for customer in col.find():\n",
    "    print(customer)\n",
    "\n",
    "# print the first inserted record using find_one()\n",
    "first_customer = col.find_one()\n",
    "print(first_customer)\n",
    "\n",
    "In this code, we first insert one record into the customers collection using the insert_one() method, and then insert multiple records using the insert_many() method. We then use the find() method to print all the inserted records, and the find_one() method to print the first inserted record. Note that the output of the find() method is a cursor object, which we iterate over to print each record.\n",
    "\n",
    "Note that this code assumes that you have already created the mydatabase database and customers collection in MongoDB, as shown in question 3. If you are using a different database or collection, you would need to modify the code accordingly."
   ]
  },
  {
   "cell_type": "markdown",
   "id": "2b18ef78-1b66-44cd-8efc-abb4fadda9ac",
   "metadata": {},
   "source": [
    "Q5. Explain how you can use the find() method to query the MongoDB database. Write a simple code to\n",
    "demonstrate this."
   ]
  },
  {
   "cell_type": "code",
   "execution_count": null,
   "id": "95cdb896-8eee-4fc1-9d6d-32b22633c108",
   "metadata": {},
   "outputs": [],
   "source": [
    "The find() method in MongoDB is used to query documents from a collection based on certain conditions. It returns a cursor object that can be iterated over to retrieve the matching documents. The find() method can be passed a dictionary object as a query parameter to specify the conditions that must be met by the documents.\n",
    "\n",
    "Here's an example code that demonstrates how to use the find() method to query a MongoDB collection:\n",
    "import pymongo\n",
    "\n",
    "# establish a connection to MongoDB\n",
    "client = pymongo.MongoClient(\"mongodb://localhost:27017/\")\n",
    "\n",
    "# select the database and collection\n",
    "db = client[\"mydatabase\"]\n",
    "col = db[\"customers\"]\n",
    "\n",
    "# query the collection using the find() method\n",
    "query = {\"name\": \"John Doe\"}\n",
    "results = col.find(query)\n",
    "\n",
    "# iterate over the results and print them\n",
    "for result in results:\n",
    "    print(result)\n",
    "\n",
    "In this code, we first establish a connection to the local MongoDB instance and select the mydatabase database and customers collection. We then construct a query object to find all documents in the collection where the name field is equal to \"John Doe\". We pass this query object as a parameter to the find() method, which returns a cursor object containing all the matching documents. We then iterate over this cursor object using a for loop and print each document.\n",
    "\n",
    "Note that the query parameter passed to the find() method can be any valid MongoDB query expression, such as $gt, $lt, $in, $and, $or, etc. You can also use regular expressions in the query parameter to perform more complex searches."
   ]
  },
  {
   "cell_type": "markdown",
   "id": "50c49def-4961-4c00-b0d2-d64b7ba230df",
   "metadata": {},
   "source": [
    "Q6. Explain the sort() method. Give an example to demonstrate sorting in MongoDB."
   ]
  },
  {
   "cell_type": "code",
   "execution_count": null,
   "id": "f1fc3c22-09f1-4939-9e70-c5a092f9f057",
   "metadata": {},
   "outputs": [],
   "source": [
    "The sort() method in MongoDB is used to sort the documents in a collection based on one or more fields. It takes one or more field-value pairs as parameters, and sorts the documents in ascending or descending order based on the specified fields. By default, the sort() method sorts the documents in ascending order, but you can use the -1 value to sort in descending order.\n",
    "\n",
    "Here's an example code that demonstrates how to use the sort() method to sort the documents in a MongoDB collection:\n",
    "import pymongo\n",
    "\n",
    "# establish a connection to MongoDB\n",
    "client = pymongo.MongoClient(\"mongodb://localhost:27017/\")\n",
    "\n",
    "# select the database and collection\n",
    "db = client[\"mydatabase\"]\n",
    "col = db[\"customers\"]\n",
    "\n",
    "# sort the collection using the sort() method\n",
    "results = col.find().sort(\"name\")\n",
    "\n",
    "# iterate over the results and print them\n",
    "for result in results:\n",
    "    print(result)\n",
    "\n",
    "In this code, we first establish a connection to the local MongoDB instance and select the mydatabase database and customers collection. We then use the find() method to retrieve all documents in the collection, and pass the result to the sort() method with the \"name\" parameter to sort the documents by the name field in ascending order. Finally, we iterate over the sorted results and print each document.\n",
    "\n",
    "Note that you can pass multiple field-value pairs to the sort() method to sort the documents based on multiple fields. For example, you can use col.find().sort((\"name\", 1), (\"age\", -1)) to sort the documents first by name in ascending order and then by age in descending order."
   ]
  },
  {
   "cell_type": "markdown",
   "id": "e276686a-512c-4e2c-af19-36740bc44106",
   "metadata": {},
   "source": [
    "Q7. Explain why delete_one(), delete_many(), and drop() is used."
   ]
  },
  {
   "cell_type": "code",
   "execution_count": null,
   "id": "4969ab51-0652-435c-8c3f-540a0bc0a4a3",
   "metadata": {},
   "outputs": [],
   "source": [
    "In MongoDB, delete_one(), delete_many(), and drop() are used to delete documents or collections from a database.\n",
    "\n",
    "delete_one() is used to delete a single document that matches a specified filter. If multiple documents match the filter, only the first one encountered is deleted.\n",
    "\n",
    "delete_many() is used to delete multiple documents that match a specified filter. All documents that match the filter are deleted.\n",
    "\n",
    "drop() is used to delete an entire collection from the database. This method permanently removes all documents and indexes associated with the collection.\n",
    "\n",
    "These methods are useful for maintaining a clean and organized database. For example, if you have a collection of user accounts and you want to delete a single user's account, you can use the delete_one() method with a filter that matches the user's unique identifier. If you want to delete multiple users' accounts, you can use the delete_many() method with a filter that matches a group of users based on some criteria, such as their account creation date. Finally, if you want to completely delete the user accounts collection, you can use the drop() method to remove it from the database.\n",
    "\n",
    "It's important to be careful when using these methods, as they can permanently delete data from the database. Always double-check your filters and make sure you are deleting the correct documents or collections before executing these methods.\n",
    "\n",
    "\n",
    "\n"
   ]
  },
  {
   "cell_type": "code",
   "execution_count": null,
   "id": "64cce2fb-cae6-4e6a-8a65-0938c8d61814",
   "metadata": {},
   "outputs": [],
   "source": []
  }
 ],
 "metadata": {
  "kernelspec": {
   "display_name": "Python 3 (ipykernel)",
   "language": "python",
   "name": "python3"
  },
  "language_info": {
   "codemirror_mode": {
    "name": "ipython",
    "version": 3
   },
   "file_extension": ".py",
   "mimetype": "text/x-python",
   "name": "python",
   "nbconvert_exporter": "python",
   "pygments_lexer": "ipython3",
   "version": "3.10.8"
  }
 },
 "nbformat": 4,
 "nbformat_minor": 5
}
